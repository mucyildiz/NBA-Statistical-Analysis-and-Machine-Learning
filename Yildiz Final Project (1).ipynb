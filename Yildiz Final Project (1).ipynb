{
 "cells": [
  {
   "cell_type": "code",
   "execution_count": 679,
   "metadata": {},
   "outputs": [
    {
     "data": {
      "text/html": [
       "<style>\n",
       "body {\n",
       "    font-family: \"Times New Roman\", Times, serif;\n",
       "}\n",
       "</style>    \n"
      ],
      "text/plain": [
       "<IPython.core.display.HTML object>"
      ]
     },
     "metadata": {},
     "output_type": "display_data"
    }
   ],
   "source": [
    "%%html\n",
    "<style>\n",
    "body {\n",
    "    font-family: \"Times New Roman\", Times, serif;\n",
    "}\n",
    "</style>    "
   ]
  },
  {
   "cell_type": "markdown",
   "metadata": {},
   "source": [
    "NBA Data Analysis by Alperen Yildiz"
   ]
  },
  {
   "cell_type": "code",
   "execution_count": 680,
   "metadata": {},
   "outputs": [],
   "source": [
    "import pandas as pd\n",
    "import matplotlib.pyplot as plt"
   ]
  },
  {
   "cell_type": "markdown",
   "metadata": {},
   "source": [
    "The data I am using is statistics for every NBA player for the 2019-2020 season. The data was taken from basketball-reference.com. To control for playing time, I used per 100 possessions stats which records a players statistics per possession and then multiplies by 100. "
   ]
  },
  {
   "cell_type": "code",
   "execution_count": 681,
   "metadata": {},
   "outputs": [],
   "source": [
    "NBA_df = pd.read_csv('2020nbastats.csv')"
   ]
  },
  {
   "cell_type": "code",
   "execution_count": 682,
   "metadata": {},
   "outputs": [
    {
     "data": {
      "text/html": [
       "<div>\n",
       "<style scoped>\n",
       "    .dataframe tbody tr th:only-of-type {\n",
       "        vertical-align: middle;\n",
       "    }\n",
       "\n",
       "    .dataframe tbody tr th {\n",
       "        vertical-align: top;\n",
       "    }\n",
       "\n",
       "    .dataframe thead th {\n",
       "        text-align: right;\n",
       "    }\n",
       "</style>\n",
       "<table border=\"1\" class=\"dataframe\">\n",
       "  <thead>\n",
       "    <tr style=\"text-align: right;\">\n",
       "      <th></th>\n",
       "      <th>Rk</th>\n",
       "      <th>Player</th>\n",
       "      <th>Pos</th>\n",
       "      <th>Age</th>\n",
       "      <th>Tm</th>\n",
       "      <th>G</th>\n",
       "      <th>GS</th>\n",
       "      <th>MP</th>\n",
       "      <th>FG</th>\n",
       "      <th>FGA</th>\n",
       "      <th>...</th>\n",
       "      <th>TRB</th>\n",
       "      <th>AST</th>\n",
       "      <th>STL</th>\n",
       "      <th>BLK</th>\n",
       "      <th>TOV</th>\n",
       "      <th>PF</th>\n",
       "      <th>PTS</th>\n",
       "      <th>Unnamed: 29</th>\n",
       "      <th>ORtg</th>\n",
       "      <th>DRtg</th>\n",
       "    </tr>\n",
       "  </thead>\n",
       "  <tbody>\n",
       "    <tr>\n",
       "      <th>0</th>\n",
       "      <td>1</td>\n",
       "      <td>Steven Adams\\adamsst01</td>\n",
       "      <td>C</td>\n",
       "      <td>26</td>\n",
       "      <td>OKC</td>\n",
       "      <td>58</td>\n",
       "      <td>58</td>\n",
       "      <td>1564</td>\n",
       "      <td>8.2</td>\n",
       "      <td>13.8</td>\n",
       "      <td>...</td>\n",
       "      <td>16.9</td>\n",
       "      <td>4.4</td>\n",
       "      <td>1.6</td>\n",
       "      <td>2.0</td>\n",
       "      <td>2.7</td>\n",
       "      <td>3.5</td>\n",
       "      <td>19.7</td>\n",
       "      <td>NaN</td>\n",
       "      <td>123.0</td>\n",
       "      <td>106</td>\n",
       "    </tr>\n",
       "    <tr>\n",
       "      <th>1</th>\n",
       "      <td>2</td>\n",
       "      <td>Bam Adebayo\\adebaba01</td>\n",
       "      <td>PF</td>\n",
       "      <td>22</td>\n",
       "      <td>MIA</td>\n",
       "      <td>65</td>\n",
       "      <td>65</td>\n",
       "      <td>2235</td>\n",
       "      <td>8.9</td>\n",
       "      <td>15.7</td>\n",
       "      <td>...</td>\n",
       "      <td>15.0</td>\n",
       "      <td>7.3</td>\n",
       "      <td>1.7</td>\n",
       "      <td>1.9</td>\n",
       "      <td>4.0</td>\n",
       "      <td>3.6</td>\n",
       "      <td>23.1</td>\n",
       "      <td>NaN</td>\n",
       "      <td>117.0</td>\n",
       "      <td>106</td>\n",
       "    </tr>\n",
       "    <tr>\n",
       "      <th>2</th>\n",
       "      <td>3</td>\n",
       "      <td>LaMarcus Aldridge\\aldrila01</td>\n",
       "      <td>C</td>\n",
       "      <td>34</td>\n",
       "      <td>SAS</td>\n",
       "      <td>53</td>\n",
       "      <td>53</td>\n",
       "      <td>1754</td>\n",
       "      <td>10.7</td>\n",
       "      <td>21.7</td>\n",
       "      <td>...</td>\n",
       "      <td>10.7</td>\n",
       "      <td>3.5</td>\n",
       "      <td>1.0</td>\n",
       "      <td>2.4</td>\n",
       "      <td>2.0</td>\n",
       "      <td>3.5</td>\n",
       "      <td>27.4</td>\n",
       "      <td>NaN</td>\n",
       "      <td>115.0</td>\n",
       "      <td>113</td>\n",
       "    </tr>\n",
       "    <tr>\n",
       "      <th>3</th>\n",
       "      <td>4</td>\n",
       "      <td>Nickeil Alexander-Walker\\alexani01</td>\n",
       "      <td>SG</td>\n",
       "      <td>21</td>\n",
       "      <td>NOP</td>\n",
       "      <td>41</td>\n",
       "      <td>0</td>\n",
       "      <td>501</td>\n",
       "      <td>7.1</td>\n",
       "      <td>20.9</td>\n",
       "      <td>...</td>\n",
       "      <td>7.4</td>\n",
       "      <td>6.8</td>\n",
       "      <td>1.0</td>\n",
       "      <td>0.6</td>\n",
       "      <td>3.7</td>\n",
       "      <td>4.2</td>\n",
       "      <td>19.5</td>\n",
       "      <td>NaN</td>\n",
       "      <td>91.0</td>\n",
       "      <td>113</td>\n",
       "    </tr>\n",
       "    <tr>\n",
       "      <th>4</th>\n",
       "      <td>5</td>\n",
       "      <td>Grayson Allen\\allengr01</td>\n",
       "      <td>SG</td>\n",
       "      <td>24</td>\n",
       "      <td>MEM</td>\n",
       "      <td>30</td>\n",
       "      <td>0</td>\n",
       "      <td>498</td>\n",
       "      <td>7.4</td>\n",
       "      <td>16.5</td>\n",
       "      <td>...</td>\n",
       "      <td>6.2</td>\n",
       "      <td>4.0</td>\n",
       "      <td>0.6</td>\n",
       "      <td>0.1</td>\n",
       "      <td>2.2</td>\n",
       "      <td>3.4</td>\n",
       "      <td>20.7</td>\n",
       "      <td>NaN</td>\n",
       "      <td>111.0</td>\n",
       "      <td>115</td>\n",
       "    </tr>\n",
       "  </tbody>\n",
       "</table>\n",
       "<p>5 rows × 32 columns</p>\n",
       "</div>"
      ],
      "text/plain": [
       "   Rk                              Player Pos  Age   Tm   G  GS    MP    FG  \\\n",
       "0   1              Steven Adams\\adamsst01   C   26  OKC  58  58  1564   8.2   \n",
       "1   2               Bam Adebayo\\adebaba01  PF   22  MIA  65  65  2235   8.9   \n",
       "2   3         LaMarcus Aldridge\\aldrila01   C   34  SAS  53  53  1754  10.7   \n",
       "3   4  Nickeil Alexander-Walker\\alexani01  SG   21  NOP  41   0   501   7.1   \n",
       "4   5             Grayson Allen\\allengr01  SG   24  MEM  30   0   498   7.4   \n",
       "\n",
       "    FGA  ...   TRB  AST  STL  BLK  TOV   PF   PTS  Unnamed: 29   ORtg  DRtg  \n",
       "0  13.8  ...  16.9  4.4  1.6  2.0  2.7  3.5  19.7          NaN  123.0   106  \n",
       "1  15.7  ...  15.0  7.3  1.7  1.9  4.0  3.6  23.1          NaN  117.0   106  \n",
       "2  21.7  ...  10.7  3.5  1.0  2.4  2.0  3.5  27.4          NaN  115.0   113  \n",
       "3  20.9  ...   7.4  6.8  1.0  0.6  3.7  4.2  19.5          NaN   91.0   113  \n",
       "4  16.5  ...   6.2  4.0  0.6  0.1  2.2  3.4  20.7          NaN  111.0   115  \n",
       "\n",
       "[5 rows x 32 columns]"
      ]
     },
     "execution_count": 682,
     "metadata": {},
     "output_type": "execute_result"
    }
   ],
   "source": [
    "NBA_df.head()"
   ]
  },
  {
   "cell_type": "markdown",
   "metadata": {},
   "source": [
    "I want to clean up the Player column"
   ]
  },
  {
   "cell_type": "code",
   "execution_count": 683,
   "metadata": {},
   "outputs": [
    {
     "data": {
      "text/plain": [
       "'Grayson Allen'"
      ]
     },
     "execution_count": 683,
     "metadata": {},
     "output_type": "execute_result"
    }
   ],
   "source": [
    "def name_only(name):\n",
    "    return name.split(\"\\\\\")[0]\n",
    "#expected output: 'Grayson Allen'\n",
    "name_only(NBA_df['Player'][4])"
   ]
  },
  {
   "cell_type": "markdown",
   "metadata": {},
   "source": [
    "Nice."
   ]
  },
  {
   "cell_type": "code",
   "execution_count": 684,
   "metadata": {},
   "outputs": [],
   "source": [
    "NBA_df['Player'] = NBA_df['Player'].apply(lambda player: name_only(player))"
   ]
  },
  {
   "cell_type": "code",
   "execution_count": 685,
   "metadata": {},
   "outputs": [
    {
     "data": {
      "text/plain": [
       "0                  Steven Adams\n",
       "1                   Bam Adebayo\n",
       "2             LaMarcus Aldridge\n",
       "3      Nickeil Alexander-Walker\n",
       "4                 Grayson Allen\n",
       "                 ...           \n",
       "619              Thaddeus Young\n",
       "620                  Trae Young\n",
       "621                 Cody Zeller\n",
       "622                  Ante Žižić\n",
       "623                 Ivica Zubac\n",
       "Name: Player, Length: 624, dtype: object"
      ]
     },
     "execution_count": 685,
     "metadata": {},
     "output_type": "execute_result"
    }
   ],
   "source": [
    "NBA_df['Player']"
   ]
  },
  {
   "cell_type": "markdown",
   "metadata": {},
   "source": [
    "The Unnamed:29 column isn't supposed to be there and it looks like all of the rows of that column are NaN values so I'm going to just drop it."
   ]
  },
  {
   "cell_type": "code",
   "execution_count": 686,
   "metadata": {},
   "outputs": [],
   "source": [
    "NBA_df = NBA_df.dropna(axis='columns',how='all' )"
   ]
  },
  {
   "cell_type": "markdown",
   "metadata": {},
   "source": [
    "Since we're going by per 100 possessions stats, a player with less minutes could skew the data. For example, if a player played two possessions all season and scored 2 points, his per 100 possession points per game would be 50 points per game. To control for this, I'm only going to consider players who have played more than 48 * 2 minutes for the season (two full games total)."
   ]
  },
  {
   "cell_type": "code",
   "execution_count": 687,
   "metadata": {},
   "outputs": [],
   "source": [
    "NBA_df = NBA_df[NBA_df['MP'] >= 96]"
   ]
  },
  {
   "cell_type": "code",
   "execution_count": 779,
   "metadata": {},
   "outputs": [
    {
     "data": {
      "text/plain": [
       "Index(['Player', 'Pos', 'Age', 'Tm', 'G', 'GS', 'MP', 'FG', 'FGA', 'FG%', '3P',\n",
       "       '3PA', '3P%', '2P', '2PA', '2P%', 'FT', 'FTA', 'FT%', 'ORB', 'DRB',\n",
       "       'TRB', 'AST', 'STL', 'BLK', 'TOV', 'PF', 'PTS', 'ORtg', 'DRtg'],\n",
       "      dtype='object')"
      ]
     },
     "execution_count": 779,
     "metadata": {},
     "output_type": "execute_result"
    }
   ],
   "source": [
    "NBA_df"
   ]
  },
  {
   "cell_type": "markdown",
   "metadata": {},
   "source": [
    "We don't need the 'Rk' column at all."
   ]
  },
  {
   "cell_type": "code",
   "execution_count": 689,
   "metadata": {},
   "outputs": [],
   "source": [
    "NBA_df = NBA_df.drop('Rk', axis=1)"
   ]
  },
  {
   "cell_type": "code",
   "execution_count": 690,
   "metadata": {},
   "outputs": [],
   "source": [
    "NBA_df = NBA_df.reset_index()"
   ]
  },
  {
   "cell_type": "code",
   "execution_count": 691,
   "metadata": {},
   "outputs": [],
   "source": [
    "NBA_df = NBA_df.drop('index', axis=1)"
   ]
  },
  {
   "cell_type": "code",
   "execution_count": 796,
   "metadata": {},
   "outputs": [
    {
     "data": {
      "text/plain": [
       "Index(['Player', 'Pos', 'Age', 'Tm', 'G', 'GS', 'MP', 'FG', 'FGA', 'FG%', '3P',\n",
       "       '3PA', '3P%', '2P', '2PA', '2P%', 'FT', 'FTA', 'FT%', 'ORB', 'DRB',\n",
       "       'TRB', 'AST', 'STL', 'BLK', 'TOV', 'PF', 'PTS', 'ORtg', 'DRtg'],\n",
       "      dtype='object')"
      ]
     },
     "execution_count": 796,
     "metadata": {},
     "output_type": "execute_result"
    }
   ],
   "source": [
    "NBA_df"
   ]
  },
  {
   "cell_type": "markdown",
   "metadata": {},
   "source": [
    "I want to see if there exists a statistically significant difference in scoring between point guards and shooting guards. On paper, point guards are supposed to facilitate an offense meaning they pass the ball more than they score it, while shooting guards are meant to score the ball. \n",
    "\n",
    "Null Hypothesis H_O: u_1 = u_2 - \n",
    "Our null hypothesis is that the means of points per 100 possession are not statistically significantly different.\n",
    "\n",
    "Alternate Hypothesis: H_A: u_1 != u_2 - \n",
    "Our alternate hypothesis is that the means are different in a statistically significant manner.\n",
    "\n",
    "First we need to filter out the DataFrame so that we have only PG's and SG's and then only their Points per 100 Poss."
   ]
  },
  {
   "cell_type": "code",
   "execution_count": 693,
   "metadata": {},
   "outputs": [],
   "source": [
    "PG_and_SG_df = NBA_df[(NBA_df['Pos'] == 'PG') | (NBA_df['Pos'] == 'SG')]"
   ]
  },
  {
   "cell_type": "code",
   "execution_count": 694,
   "metadata": {},
   "outputs": [
    {
     "data": {
      "text/html": [
       "<div>\n",
       "<style scoped>\n",
       "    .dataframe tbody tr th:only-of-type {\n",
       "        vertical-align: middle;\n",
       "    }\n",
       "\n",
       "    .dataframe tbody tr th {\n",
       "        vertical-align: top;\n",
       "    }\n",
       "\n",
       "    .dataframe thead th {\n",
       "        text-align: right;\n",
       "    }\n",
       "</style>\n",
       "<table border=\"1\" class=\"dataframe\">\n",
       "  <thead>\n",
       "    <tr style=\"text-align: right;\">\n",
       "      <th></th>\n",
       "      <th>Player</th>\n",
       "      <th>Pos</th>\n",
       "      <th>Age</th>\n",
       "      <th>Tm</th>\n",
       "      <th>G</th>\n",
       "      <th>GS</th>\n",
       "      <th>MP</th>\n",
       "      <th>FG</th>\n",
       "      <th>FGA</th>\n",
       "      <th>FG%</th>\n",
       "      <th>...</th>\n",
       "      <th>DRB</th>\n",
       "      <th>TRB</th>\n",
       "      <th>AST</th>\n",
       "      <th>STL</th>\n",
       "      <th>BLK</th>\n",
       "      <th>TOV</th>\n",
       "      <th>PF</th>\n",
       "      <th>PTS</th>\n",
       "      <th>ORtg</th>\n",
       "      <th>DRtg</th>\n",
       "    </tr>\n",
       "  </thead>\n",
       "  <tbody>\n",
       "    <tr>\n",
       "      <th>3</th>\n",
       "      <td>Nickeil Alexander-Walker</td>\n",
       "      <td>SG</td>\n",
       "      <td>21</td>\n",
       "      <td>NOP</td>\n",
       "      <td>41</td>\n",
       "      <td>0</td>\n",
       "      <td>501</td>\n",
       "      <td>7.1</td>\n",
       "      <td>20.9</td>\n",
       "      <td>0.339</td>\n",
       "      <td>...</td>\n",
       "      <td>6.6</td>\n",
       "      <td>7.4</td>\n",
       "      <td>6.8</td>\n",
       "      <td>1.0</td>\n",
       "      <td>0.6</td>\n",
       "      <td>3.7</td>\n",
       "      <td>4.2</td>\n",
       "      <td>19.5</td>\n",
       "      <td>91.0</td>\n",
       "      <td>113</td>\n",
       "    </tr>\n",
       "    <tr>\n",
       "      <th>4</th>\n",
       "      <td>Grayson Allen</td>\n",
       "      <td>SG</td>\n",
       "      <td>24</td>\n",
       "      <td>MEM</td>\n",
       "      <td>30</td>\n",
       "      <td>0</td>\n",
       "      <td>498</td>\n",
       "      <td>7.4</td>\n",
       "      <td>16.5</td>\n",
       "      <td>0.449</td>\n",
       "      <td>...</td>\n",
       "      <td>5.7</td>\n",
       "      <td>6.2</td>\n",
       "      <td>4.0</td>\n",
       "      <td>0.6</td>\n",
       "      <td>0.1</td>\n",
       "      <td>2.2</td>\n",
       "      <td>3.4</td>\n",
       "      <td>20.7</td>\n",
       "      <td>111.0</td>\n",
       "      <td>115</td>\n",
       "    </tr>\n",
       "    <tr>\n",
       "      <th>6</th>\n",
       "      <td>Kadeem Allen</td>\n",
       "      <td>SG</td>\n",
       "      <td>27</td>\n",
       "      <td>NYK</td>\n",
       "      <td>10</td>\n",
       "      <td>0</td>\n",
       "      <td>117</td>\n",
       "      <td>7.9</td>\n",
       "      <td>18.3</td>\n",
       "      <td>0.432</td>\n",
       "      <td>...</td>\n",
       "      <td>2.9</td>\n",
       "      <td>3.7</td>\n",
       "      <td>8.7</td>\n",
       "      <td>2.1</td>\n",
       "      <td>0.8</td>\n",
       "      <td>3.3</td>\n",
       "      <td>2.9</td>\n",
       "      <td>20.8</td>\n",
       "      <td>106.0</td>\n",
       "      <td>114</td>\n",
       "    </tr>\n",
       "    <tr>\n",
       "      <th>12</th>\n",
       "      <td>Ryan Arcidiacono</td>\n",
       "      <td>PG</td>\n",
       "      <td>25</td>\n",
       "      <td>CHI</td>\n",
       "      <td>58</td>\n",
       "      <td>4</td>\n",
       "      <td>930</td>\n",
       "      <td>4.7</td>\n",
       "      <td>11.4</td>\n",
       "      <td>0.409</td>\n",
       "      <td>...</td>\n",
       "      <td>4.7</td>\n",
       "      <td>5.7</td>\n",
       "      <td>5.0</td>\n",
       "      <td>1.4</td>\n",
       "      <td>0.2</td>\n",
       "      <td>1.9</td>\n",
       "      <td>5.0</td>\n",
       "      <td>13.5</td>\n",
       "      <td>111.0</td>\n",
       "      <td>113</td>\n",
       "    </tr>\n",
       "    <tr>\n",
       "      <th>16</th>\n",
       "      <td>D.J. Augustin</td>\n",
       "      <td>PG</td>\n",
       "      <td>32</td>\n",
       "      <td>ORL</td>\n",
       "      <td>49</td>\n",
       "      <td>6</td>\n",
       "      <td>1215</td>\n",
       "      <td>6.3</td>\n",
       "      <td>15.9</td>\n",
       "      <td>0.393</td>\n",
       "      <td>...</td>\n",
       "      <td>3.7</td>\n",
       "      <td>4.4</td>\n",
       "      <td>9.0</td>\n",
       "      <td>1.2</td>\n",
       "      <td>0.0</td>\n",
       "      <td>2.8</td>\n",
       "      <td>2.1</td>\n",
       "      <td>20.5</td>\n",
       "      <td>114.0</td>\n",
       "      <td>114</td>\n",
       "    </tr>\n",
       "    <tr>\n",
       "      <th>...</th>\n",
       "      <td>...</td>\n",
       "      <td>...</td>\n",
       "      <td>...</td>\n",
       "      <td>...</td>\n",
       "      <td>...</td>\n",
       "      <td>...</td>\n",
       "      <td>...</td>\n",
       "      <td>...</td>\n",
       "      <td>...</td>\n",
       "      <td>...</td>\n",
       "      <td>...</td>\n",
       "      <td>...</td>\n",
       "      <td>...</td>\n",
       "      <td>...</td>\n",
       "      <td>...</td>\n",
       "      <td>...</td>\n",
       "      <td>...</td>\n",
       "      <td>...</td>\n",
       "      <td>...</td>\n",
       "      <td>...</td>\n",
       "      <td>...</td>\n",
       "    </tr>\n",
       "    <tr>\n",
       "      <th>494</th>\n",
       "      <td>Derrick White</td>\n",
       "      <td>SG</td>\n",
       "      <td>25</td>\n",
       "      <td>SAS</td>\n",
       "      <td>61</td>\n",
       "      <td>13</td>\n",
       "      <td>1468</td>\n",
       "      <td>7.0</td>\n",
       "      <td>15.2</td>\n",
       "      <td>0.459</td>\n",
       "      <td>...</td>\n",
       "      <td>5.3</td>\n",
       "      <td>6.3</td>\n",
       "      <td>6.7</td>\n",
       "      <td>1.3</td>\n",
       "      <td>1.8</td>\n",
       "      <td>2.5</td>\n",
       "      <td>4.4</td>\n",
       "      <td>20.7</td>\n",
       "      <td>117.0</td>\n",
       "      <td>114</td>\n",
       "    </tr>\n",
       "    <tr>\n",
       "      <th>498</th>\n",
       "      <td>Andrew Wiggins</td>\n",
       "      <td>SG</td>\n",
       "      <td>24</td>\n",
       "      <td>GSW</td>\n",
       "      <td>12</td>\n",
       "      <td>12</td>\n",
       "      <td>403</td>\n",
       "      <td>10.2</td>\n",
       "      <td>22.3</td>\n",
       "      <td>0.457</td>\n",
       "      <td>...</td>\n",
       "      <td>4.4</td>\n",
       "      <td>6.5</td>\n",
       "      <td>5.1</td>\n",
       "      <td>1.9</td>\n",
       "      <td>2.0</td>\n",
       "      <td>3.0</td>\n",
       "      <td>3.1</td>\n",
       "      <td>27.7</td>\n",
       "      <td>106.0</td>\n",
       "      <td>113</td>\n",
       "    </tr>\n",
       "    <tr>\n",
       "      <th>502</th>\n",
       "      <td>Lou Williams</td>\n",
       "      <td>SG</td>\n",
       "      <td>33</td>\n",
       "      <td>LAC</td>\n",
       "      <td>60</td>\n",
       "      <td>8</td>\n",
       "      <td>1757</td>\n",
       "      <td>9.8</td>\n",
       "      <td>23.7</td>\n",
       "      <td>0.416</td>\n",
       "      <td>...</td>\n",
       "      <td>4.2</td>\n",
       "      <td>5.0</td>\n",
       "      <td>9.2</td>\n",
       "      <td>1.1</td>\n",
       "      <td>0.3</td>\n",
       "      <td>4.6</td>\n",
       "      <td>2.1</td>\n",
       "      <td>30.0</td>\n",
       "      <td>109.0</td>\n",
       "      <td>111</td>\n",
       "    </tr>\n",
       "    <tr>\n",
       "      <th>511</th>\n",
       "      <td>Delon Wright</td>\n",
       "      <td>SG</td>\n",
       "      <td>27</td>\n",
       "      <td>DAL</td>\n",
       "      <td>65</td>\n",
       "      <td>5</td>\n",
       "      <td>1412</td>\n",
       "      <td>6.1</td>\n",
       "      <td>13.1</td>\n",
       "      <td>0.470</td>\n",
       "      <td>...</td>\n",
       "      <td>6.6</td>\n",
       "      <td>8.9</td>\n",
       "      <td>7.5</td>\n",
       "      <td>2.6</td>\n",
       "      <td>0.7</td>\n",
       "      <td>2.3</td>\n",
       "      <td>2.8</td>\n",
       "      <td>16.3</td>\n",
       "      <td>121.0</td>\n",
       "      <td>109</td>\n",
       "    </tr>\n",
       "    <tr>\n",
       "      <th>513</th>\n",
       "      <td>Trae Young</td>\n",
       "      <td>PG</td>\n",
       "      <td>21</td>\n",
       "      <td>ATL</td>\n",
       "      <td>60</td>\n",
       "      <td>60</td>\n",
       "      <td>2120</td>\n",
       "      <td>12.0</td>\n",
       "      <td>27.5</td>\n",
       "      <td>0.437</td>\n",
       "      <td>...</td>\n",
       "      <td>4.9</td>\n",
       "      <td>5.6</td>\n",
       "      <td>12.3</td>\n",
       "      <td>1.4</td>\n",
       "      <td>0.2</td>\n",
       "      <td>6.4</td>\n",
       "      <td>2.3</td>\n",
       "      <td>39.1</td>\n",
       "      <td>114.0</td>\n",
       "      <td>117</td>\n",
       "    </tr>\n",
       "  </tbody>\n",
       "</table>\n",
       "<p>219 rows × 30 columns</p>\n",
       "</div>"
      ],
      "text/plain": [
       "                       Player Pos  Age   Tm   G  GS    MP    FG   FGA    FG%  \\\n",
       "3    Nickeil Alexander-Walker  SG   21  NOP  41   0   501   7.1  20.9  0.339   \n",
       "4               Grayson Allen  SG   24  MEM  30   0   498   7.4  16.5  0.449   \n",
       "6                Kadeem Allen  SG   27  NYK  10   0   117   7.9  18.3  0.432   \n",
       "12           Ryan Arcidiacono  PG   25  CHI  58   4   930   4.7  11.4  0.409   \n",
       "16              D.J. Augustin  PG   32  ORL  49   6  1215   6.3  15.9  0.393   \n",
       "..                        ...  ..  ...  ...  ..  ..   ...   ...   ...    ...   \n",
       "494             Derrick White  SG   25  SAS  61  13  1468   7.0  15.2  0.459   \n",
       "498            Andrew Wiggins  SG   24  GSW  12  12   403  10.2  22.3  0.457   \n",
       "502              Lou Williams  SG   33  LAC  60   8  1757   9.8  23.7  0.416   \n",
       "511              Delon Wright  SG   27  DAL  65   5  1412   6.1  13.1  0.470   \n",
       "513                Trae Young  PG   21  ATL  60  60  2120  12.0  27.5  0.437   \n",
       "\n",
       "     ...  DRB  TRB   AST  STL  BLK  TOV   PF   PTS   ORtg  DRtg  \n",
       "3    ...  6.6  7.4   6.8  1.0  0.6  3.7  4.2  19.5   91.0   113  \n",
       "4    ...  5.7  6.2   4.0  0.6  0.1  2.2  3.4  20.7  111.0   115  \n",
       "6    ...  2.9  3.7   8.7  2.1  0.8  3.3  2.9  20.8  106.0   114  \n",
       "12   ...  4.7  5.7   5.0  1.4  0.2  1.9  5.0  13.5  111.0   113  \n",
       "16   ...  3.7  4.4   9.0  1.2  0.0  2.8  2.1  20.5  114.0   114  \n",
       "..   ...  ...  ...   ...  ...  ...  ...  ...   ...    ...   ...  \n",
       "494  ...  5.3  6.3   6.7  1.3  1.8  2.5  4.4  20.7  117.0   114  \n",
       "498  ...  4.4  6.5   5.1  1.9  2.0  3.0  3.1  27.7  106.0   113  \n",
       "502  ...  4.2  5.0   9.2  1.1  0.3  4.6  2.1  30.0  109.0   111  \n",
       "511  ...  6.6  8.9   7.5  2.6  0.7  2.3  2.8  16.3  121.0   109  \n",
       "513  ...  4.9  5.6  12.3  1.4  0.2  6.4  2.3  39.1  114.0   117  \n",
       "\n",
       "[219 rows x 30 columns]"
      ]
     },
     "execution_count": 694,
     "metadata": {},
     "output_type": "execute_result"
    }
   ],
   "source": [
    "PG_and_SG_df"
   ]
  },
  {
   "cell_type": "code",
   "execution_count": 695,
   "metadata": {},
   "outputs": [],
   "source": [
    "players = PG_and_SG_df['Player']\n",
    "points = PG_and_SG_df['PTS']\n",
    "pos = PG_and_SG_df['Pos']\n",
    "pg_sg_points_df = pd.DataFrame({'Player': players, 'PTS': points, 'Pos': pos})"
   ]
  },
  {
   "cell_type": "code",
   "execution_count": 696,
   "metadata": {
    "scrolled": true
   },
   "outputs": [
    {
     "data": {
      "text/html": [
       "<div>\n",
       "<style scoped>\n",
       "    .dataframe tbody tr th:only-of-type {\n",
       "        vertical-align: middle;\n",
       "    }\n",
       "\n",
       "    .dataframe tbody tr th {\n",
       "        vertical-align: top;\n",
       "    }\n",
       "\n",
       "    .dataframe thead th {\n",
       "        text-align: right;\n",
       "    }\n",
       "</style>\n",
       "<table border=\"1\" class=\"dataframe\">\n",
       "  <thead>\n",
       "    <tr style=\"text-align: right;\">\n",
       "      <th></th>\n",
       "      <th>Player</th>\n",
       "      <th>PTS</th>\n",
       "      <th>Pos</th>\n",
       "    </tr>\n",
       "  </thead>\n",
       "  <tbody>\n",
       "    <tr>\n",
       "      <th>3</th>\n",
       "      <td>Nickeil Alexander-Walker</td>\n",
       "      <td>19.5</td>\n",
       "      <td>SG</td>\n",
       "    </tr>\n",
       "    <tr>\n",
       "      <th>4</th>\n",
       "      <td>Grayson Allen</td>\n",
       "      <td>20.7</td>\n",
       "      <td>SG</td>\n",
       "    </tr>\n",
       "    <tr>\n",
       "      <th>6</th>\n",
       "      <td>Kadeem Allen</td>\n",
       "      <td>20.8</td>\n",
       "      <td>SG</td>\n",
       "    </tr>\n",
       "    <tr>\n",
       "      <th>12</th>\n",
       "      <td>Ryan Arcidiacono</td>\n",
       "      <td>13.5</td>\n",
       "      <td>PG</td>\n",
       "    </tr>\n",
       "    <tr>\n",
       "      <th>16</th>\n",
       "      <td>D.J. Augustin</td>\n",
       "      <td>20.5</td>\n",
       "      <td>PG</td>\n",
       "    </tr>\n",
       "    <tr>\n",
       "      <th>...</th>\n",
       "      <td>...</td>\n",
       "      <td>...</td>\n",
       "      <td>...</td>\n",
       "    </tr>\n",
       "    <tr>\n",
       "      <th>494</th>\n",
       "      <td>Derrick White</td>\n",
       "      <td>20.7</td>\n",
       "      <td>SG</td>\n",
       "    </tr>\n",
       "    <tr>\n",
       "      <th>498</th>\n",
       "      <td>Andrew Wiggins</td>\n",
       "      <td>27.7</td>\n",
       "      <td>SG</td>\n",
       "    </tr>\n",
       "    <tr>\n",
       "      <th>502</th>\n",
       "      <td>Lou Williams</td>\n",
       "      <td>30.0</td>\n",
       "      <td>SG</td>\n",
       "    </tr>\n",
       "    <tr>\n",
       "      <th>511</th>\n",
       "      <td>Delon Wright</td>\n",
       "      <td>16.3</td>\n",
       "      <td>SG</td>\n",
       "    </tr>\n",
       "    <tr>\n",
       "      <th>513</th>\n",
       "      <td>Trae Young</td>\n",
       "      <td>39.1</td>\n",
       "      <td>PG</td>\n",
       "    </tr>\n",
       "  </tbody>\n",
       "</table>\n",
       "<p>219 rows × 3 columns</p>\n",
       "</div>"
      ],
      "text/plain": [
       "                       Player   PTS Pos\n",
       "3    Nickeil Alexander-Walker  19.5  SG\n",
       "4               Grayson Allen  20.7  SG\n",
       "6                Kadeem Allen  20.8  SG\n",
       "12           Ryan Arcidiacono  13.5  PG\n",
       "16              D.J. Augustin  20.5  PG\n",
       "..                        ...   ...  ..\n",
       "494             Derrick White  20.7  SG\n",
       "498            Andrew Wiggins  27.7  SG\n",
       "502              Lou Williams  30.0  SG\n",
       "511              Delon Wright  16.3  SG\n",
       "513                Trae Young  39.1  PG\n",
       "\n",
       "[219 rows x 3 columns]"
      ]
     },
     "execution_count": 696,
     "metadata": {},
     "output_type": "execute_result"
    }
   ],
   "source": [
    "pg_sg_points_df"
   ]
  },
  {
   "cell_type": "markdown",
   "metadata": {},
   "source": [
    "Now we're going to split this up into two separate dataframes, one for point guards and one for shooting guards."
   ]
  },
  {
   "cell_type": "code",
   "execution_count": 697,
   "metadata": {},
   "outputs": [],
   "source": [
    "pgs_df = pg_sg_points_df[pg_sg_points_df['Pos'] == 'PG']\n",
    "sgs_df = pg_sg_points_df[pg_sg_points_df['Pos'] == 'SG']"
   ]
  },
  {
   "cell_type": "code",
   "execution_count": 698,
   "metadata": {},
   "outputs": [
    {
     "data": {
      "text/html": [
       "<div>\n",
       "<style scoped>\n",
       "    .dataframe tbody tr th:only-of-type {\n",
       "        vertical-align: middle;\n",
       "    }\n",
       "\n",
       "    .dataframe tbody tr th {\n",
       "        vertical-align: top;\n",
       "    }\n",
       "\n",
       "    .dataframe thead th {\n",
       "        text-align: right;\n",
       "    }\n",
       "</style>\n",
       "<table border=\"1\" class=\"dataframe\">\n",
       "  <thead>\n",
       "    <tr style=\"text-align: right;\">\n",
       "      <th></th>\n",
       "      <th>Player</th>\n",
       "      <th>PTS</th>\n",
       "      <th>Pos</th>\n",
       "    </tr>\n",
       "  </thead>\n",
       "  <tbody>\n",
       "    <tr>\n",
       "      <th>12</th>\n",
       "      <td>Ryan Arcidiacono</td>\n",
       "      <td>13.5</td>\n",
       "      <td>PG</td>\n",
       "    </tr>\n",
       "    <tr>\n",
       "      <th>16</th>\n",
       "      <td>D.J. Augustin</td>\n",
       "      <td>20.5</td>\n",
       "      <td>PG</td>\n",
       "    </tr>\n",
       "    <tr>\n",
       "      <th>20</th>\n",
       "      <td>Lonzo Ball</td>\n",
       "      <td>17.7</td>\n",
       "      <td>PG</td>\n",
       "    </tr>\n",
       "    <tr>\n",
       "      <th>22</th>\n",
       "      <td>J.J. Barea</td>\n",
       "      <td>24.0</td>\n",
       "      <td>PG</td>\n",
       "    </tr>\n",
       "    <tr>\n",
       "      <th>45</th>\n",
       "      <td>Patrick Beverley</td>\n",
       "      <td>13.8</td>\n",
       "      <td>PG</td>\n",
       "    </tr>\n",
       "    <tr>\n",
       "      <th>...</th>\n",
       "      <td>...</td>\n",
       "      <td>...</td>\n",
       "      <td>...</td>\n",
       "    </tr>\n",
       "    <tr>\n",
       "      <th>486</th>\n",
       "      <td>Derrick Walton</td>\n",
       "      <td>10.1</td>\n",
       "      <td>PG</td>\n",
       "    </tr>\n",
       "    <tr>\n",
       "      <th>487</th>\n",
       "      <td>Derrick Walton</td>\n",
       "      <td>10.6</td>\n",
       "      <td>PG</td>\n",
       "    </tr>\n",
       "    <tr>\n",
       "      <th>488</th>\n",
       "      <td>Brad Wanamaker</td>\n",
       "      <td>16.4</td>\n",
       "      <td>PG</td>\n",
       "    </tr>\n",
       "    <tr>\n",
       "      <th>492</th>\n",
       "      <td>Russell Westbrook</td>\n",
       "      <td>35.5</td>\n",
       "      <td>PG</td>\n",
       "    </tr>\n",
       "    <tr>\n",
       "      <th>513</th>\n",
       "      <td>Trae Young</td>\n",
       "      <td>39.1</td>\n",
       "      <td>PG</td>\n",
       "    </tr>\n",
       "  </tbody>\n",
       "</table>\n",
       "<p>90 rows × 3 columns</p>\n",
       "</div>"
      ],
      "text/plain": [
       "                Player   PTS Pos\n",
       "12    Ryan Arcidiacono  13.5  PG\n",
       "16       D.J. Augustin  20.5  PG\n",
       "20          Lonzo Ball  17.7  PG\n",
       "22          J.J. Barea  24.0  PG\n",
       "45    Patrick Beverley  13.8  PG\n",
       "..                 ...   ...  ..\n",
       "486     Derrick Walton  10.1  PG\n",
       "487     Derrick Walton  10.6  PG\n",
       "488     Brad Wanamaker  16.4  PG\n",
       "492  Russell Westbrook  35.5  PG\n",
       "513         Trae Young  39.1  PG\n",
       "\n",
       "[90 rows x 3 columns]"
      ]
     },
     "execution_count": 698,
     "metadata": {},
     "output_type": "execute_result"
    }
   ],
   "source": [
    "pgs_df"
   ]
  },
  {
   "cell_type": "code",
   "execution_count": 699,
   "metadata": {},
   "outputs": [
    {
     "data": {
      "text/html": [
       "<div>\n",
       "<style scoped>\n",
       "    .dataframe tbody tr th:only-of-type {\n",
       "        vertical-align: middle;\n",
       "    }\n",
       "\n",
       "    .dataframe tbody tr th {\n",
       "        vertical-align: top;\n",
       "    }\n",
       "\n",
       "    .dataframe thead th {\n",
       "        text-align: right;\n",
       "    }\n",
       "</style>\n",
       "<table border=\"1\" class=\"dataframe\">\n",
       "  <thead>\n",
       "    <tr style=\"text-align: right;\">\n",
       "      <th></th>\n",
       "      <th>Player</th>\n",
       "      <th>PTS</th>\n",
       "      <th>Pos</th>\n",
       "    </tr>\n",
       "  </thead>\n",
       "  <tbody>\n",
       "    <tr>\n",
       "      <th>3</th>\n",
       "      <td>Nickeil Alexander-Walker</td>\n",
       "      <td>19.5</td>\n",
       "      <td>SG</td>\n",
       "    </tr>\n",
       "    <tr>\n",
       "      <th>4</th>\n",
       "      <td>Grayson Allen</td>\n",
       "      <td>20.7</td>\n",
       "      <td>SG</td>\n",
       "    </tr>\n",
       "    <tr>\n",
       "      <th>6</th>\n",
       "      <td>Kadeem Allen</td>\n",
       "      <td>20.8</td>\n",
       "      <td>SG</td>\n",
       "    </tr>\n",
       "    <tr>\n",
       "      <th>18</th>\n",
       "      <td>Dwayne Bacon</td>\n",
       "      <td>16.3</td>\n",
       "      <td>SG</td>\n",
       "    </tr>\n",
       "    <tr>\n",
       "      <th>24</th>\n",
       "      <td>RJ Barrett</td>\n",
       "      <td>22.9</td>\n",
       "      <td>SG</td>\n",
       "    </tr>\n",
       "    <tr>\n",
       "      <th>...</th>\n",
       "      <td>...</td>\n",
       "      <td>...</td>\n",
       "      <td>...</td>\n",
       "    </tr>\n",
       "    <tr>\n",
       "      <th>493</th>\n",
       "      <td>Coby White</td>\n",
       "      <td>24.7</td>\n",
       "      <td>SG</td>\n",
       "    </tr>\n",
       "    <tr>\n",
       "      <th>494</th>\n",
       "      <td>Derrick White</td>\n",
       "      <td>20.7</td>\n",
       "      <td>SG</td>\n",
       "    </tr>\n",
       "    <tr>\n",
       "      <th>498</th>\n",
       "      <td>Andrew Wiggins</td>\n",
       "      <td>27.7</td>\n",
       "      <td>SG</td>\n",
       "    </tr>\n",
       "    <tr>\n",
       "      <th>502</th>\n",
       "      <td>Lou Williams</td>\n",
       "      <td>30.0</td>\n",
       "      <td>SG</td>\n",
       "    </tr>\n",
       "    <tr>\n",
       "      <th>511</th>\n",
       "      <td>Delon Wright</td>\n",
       "      <td>16.3</td>\n",
       "      <td>SG</td>\n",
       "    </tr>\n",
       "  </tbody>\n",
       "</table>\n",
       "<p>129 rows × 3 columns</p>\n",
       "</div>"
      ],
      "text/plain": [
       "                       Player   PTS Pos\n",
       "3    Nickeil Alexander-Walker  19.5  SG\n",
       "4               Grayson Allen  20.7  SG\n",
       "6                Kadeem Allen  20.8  SG\n",
       "18               Dwayne Bacon  16.3  SG\n",
       "24                 RJ Barrett  22.9  SG\n",
       "..                        ...   ...  ..\n",
       "493                Coby White  24.7  SG\n",
       "494             Derrick White  20.7  SG\n",
       "498            Andrew Wiggins  27.7  SG\n",
       "502              Lou Williams  30.0  SG\n",
       "511              Delon Wright  16.3  SG\n",
       "\n",
       "[129 rows x 3 columns]"
      ]
     },
     "execution_count": 699,
     "metadata": {},
     "output_type": "execute_result"
    }
   ],
   "source": [
    "sgs_df"
   ]
  },
  {
   "cell_type": "markdown",
   "metadata": {},
   "source": [
    "I want to find a statistical distribution that fits this data well so I can continue my hypothesis testing. First I will plot the data in a histogram to get a feel for the histogram."
   ]
  },
  {
   "cell_type": "code",
   "execution_count": 700,
   "metadata": {},
   "outputs": [
    {
     "data": {
      "text/plain": [
       "Text(0, 0.5, 'Frequency')"
      ]
     },
     "execution_count": 700,
     "metadata": {},
     "output_type": "execute_result"
    },
    {
     "data": {
      "image/png": "[encoded data removed]",
      "text/plain": [
       "<Figure size 432x288 with 1 Axes>"
      ]
     },
     "metadata": {
      "needs_background": "light"
     },
     "output_type": "display_data"
    }
   ],
   "source": [
    "plt.hist(sgs_df['PTS'])\n",
    "plt.xlabel('Points per 100 Poss')\n",
    "plt.ylabel('Frequency')"
   ]
  },
  {
   "cell_type": "code",
   "execution_count": 701,
   "metadata": {},
   "outputs": [
    {
     "data": {
      "text/plain": [
       "Text(0, 0.5, 'Frequency')"
      ]
     },
     "execution_count": 701,
     "metadata": {},
     "output_type": "execute_result"
    },
    {
     "data": {
      "image/png": "[encoded data removed]",
      "text/plain": [
       "<Figure size 432x288 with 1 Axes>"
      ]
     },
     "metadata": {
      "needs_background": "light"
     },
     "output_type": "display_data"
    }
   ],
   "source": [
    "plt.hist(pgs_df['PTS'], color='green')\n",
    "plt.xlabel('Points per 100 Poss')\n",
    "plt.ylabel('Frequency')"
   ]
  },
  {
   "cell_type": "markdown",
   "metadata": {},
   "source": [
    "I found this code at http://www.insightsbot.com/fitting-probability-distributions-with-python/ and it should help me find a good fit for the distribution that our data follows."
   ]
  },
  {
   "cell_type": "code",
   "execution_count": 702,
   "metadata": {},
   "outputs": [],
   "source": [
    "import scipy\n",
    "import scipy.stats\n",
    "import matplotlib\n",
    "import matplotlib.pyplot as plt\n",
    "class Distribution:\n",
    "    \n",
    "    def __init__(self,dist_names_list = []):\n",
    "        self.dist_names = ['norm','lognorm','expon']\n",
    "        self.dist_results = []\n",
    "        self.params = {}\n",
    "        \n",
    "        self.DistributionName = \"\"\n",
    "        self.PValue = 0\n",
    "        self.Param = None\n",
    "        \n",
    "        self.isFitted = False\n",
    "        \n",
    "        \n",
    "    def Fit(self, y):\n",
    "        self.dist_results = []\n",
    "        self.params = {}\n",
    "        for dist_name in self.dist_names:\n",
    "            dist = getattr(scipy.stats, dist_name)\n",
    "            param = dist.fit(y)\n",
    "            \n",
    "            self.params[dist_name] = param\n",
    "            #Applying the Kolmogorov-Smirnov test\n",
    "            D, p = scipy.stats.kstest(y, dist_name, args=param);\n",
    "            self.dist_results.append((dist_name,p))\n",
    "        #select the best fitted distribution\n",
    "        sel_dist,p = (max(self.dist_results,key=lambda item:item[1]))\n",
    "        #store the name of the best fit and its p value\n",
    "        self.DistributionName = sel_dist\n",
    "        self.PValue = p\n",
    "        \n",
    "        self.isFitted = True\n",
    "        return self.DistributionName,self.PValue\n",
    "    \n",
    "    def Random(self, n = 1):\n",
    "        if self.isFitted:\n",
    "            dist_name = self.DistributionName\n",
    "            param = self.params[dist_name]\n",
    "            #initiate the scipy distribution\n",
    "            dist = getattr(scipy.stats, dist_name)\n",
    "            return dist.rvs(*param[:-2], loc=param[-2], scale=param[-1], size=n)\n",
    "        else:\n",
    "            raise ValueError('Must first run the Fit method.')\n",
    "            \n",
    "    def Plot(self,y):\n",
    "        x = self.Random(n=len(y))\n",
    "        plt.hist(x, alpha=0.5, label='Fitted')\n",
    "        plt.hist(y, alpha=0.5, label='Actual')\n",
    "        plt.legend(loc='upper right')"
   ]
  },
  {
   "cell_type": "code",
   "execution_count": 703,
   "metadata": {},
   "outputs": [
    {
     "name": "stdout",
     "output_type": "stream",
     "text": [
      "('lognorm', 0.8027275185907423)\n"
     ]
    },
    {
     "data": {
      "image/png": "[encoded data removed]",
      "text/plain": [
       "<Figure size 432x288 with 1 Axes>"
      ]
     },
     "metadata": {
      "needs_background": "light"
     },
     "output_type": "display_data"
    }
   ],
   "source": [
    "dst = Distribution()\n",
    "sg_pts = sgs_df['PTS']\n",
    "print(dst.Fit(sg_pts))\n",
    "dst.Plot(sg_pts)"
   ]
  },
  {
   "cell_type": "code",
   "execution_count": 704,
   "metadata": {},
   "outputs": [
    {
     "name": "stdout",
     "output_type": "stream",
     "text": [
      "('lognorm', 0.9947423503521815)\n"
     ]
    },
    {
     "data": {
      "image/png": "[encoded data removed]",
      "text/plain": [
       "<Figure size 432x288 with 1 Axes>"
      ]
     },
     "metadata": {
      "needs_background": "light"
     },
     "output_type": "display_data"
    }
   ],
   "source": [
    "dst_2 = Distribution()\n",
    "pg_pts = pgs_df['PTS']\n",
    "print(dst_2.Fit(pg_pts))\n",
    "dst_2.Plot(pg_pts)"
   ]
  },
  {
   "cell_type": "markdown",
   "metadata": {},
   "source": [
    "Our data follows a lognormal distribution. This means that for a random variable X in our data, a variable Y = ln(X) is normally distributed. To make my life easier, I'm going to change the PTS column in the PGs and SGs dataframes so that the data follows a normal distribution."
   ]
  },
  {
   "cell_type": "code",
   "execution_count": 705,
   "metadata": {},
   "outputs": [],
   "source": [
    "import numpy as np\n",
    "def ln(x):\n",
    "    return np.log(x)"
   ]
  },
  {
   "cell_type": "code",
   "execution_count": 706,
   "metadata": {},
   "outputs": [
    {
     "data": {
      "text/plain": [
       "0.999999327347282"
      ]
     },
     "execution_count": 706,
     "metadata": {},
     "output_type": "execute_result"
    }
   ],
   "source": [
    "#test (should be 1 or extremely close since we're inputting an approximation of e)\n",
    "ln(2.71828)"
   ]
  },
  {
   "cell_type": "code",
   "execution_count": 707,
   "metadata": {},
   "outputs": [],
   "source": [
    "pgs_df.iloc[:, 1] = pgs_df.iloc[:, 1].apply(lambda x: ln(x))\n",
    "sgs_df.iloc[:, 1] = sgs_df.iloc[:, 1].apply(lambda x: ln(x))"
   ]
  },
  {
   "cell_type": "code",
   "execution_count": 708,
   "metadata": {},
   "outputs": [
    {
     "data": {
      "text/html": [
       "<div>\n",
       "<style scoped>\n",
       "    .dataframe tbody tr th:only-of-type {\n",
       "        vertical-align: middle;\n",
       "    }\n",
       "\n",
       "    .dataframe tbody tr th {\n",
       "        vertical-align: top;\n",
       "    }\n",
       "\n",
       "    .dataframe thead th {\n",
       "        text-align: right;\n",
       "    }\n",
       "</style>\n",
       "<table border=\"1\" class=\"dataframe\">\n",
       "  <thead>\n",
       "    <tr style=\"text-align: right;\">\n",
       "      <th></th>\n",
       "      <th>Player</th>\n",
       "      <th>PTS</th>\n",
       "      <th>Pos</th>\n",
       "    </tr>\n",
       "  </thead>\n",
       "  <tbody>\n",
       "    <tr>\n",
       "      <th>12</th>\n",
       "      <td>Ryan Arcidiacono</td>\n",
       "      <td>2.602690</td>\n",
       "      <td>PG</td>\n",
       "    </tr>\n",
       "    <tr>\n",
       "      <th>16</th>\n",
       "      <td>D.J. Augustin</td>\n",
       "      <td>3.020425</td>\n",
       "      <td>PG</td>\n",
       "    </tr>\n",
       "    <tr>\n",
       "      <th>20</th>\n",
       "      <td>Lonzo Ball</td>\n",
       "      <td>2.873565</td>\n",
       "      <td>PG</td>\n",
       "    </tr>\n",
       "    <tr>\n",
       "      <th>22</th>\n",
       "      <td>J.J. Barea</td>\n",
       "      <td>3.178054</td>\n",
       "      <td>PG</td>\n",
       "    </tr>\n",
       "    <tr>\n",
       "      <th>45</th>\n",
       "      <td>Patrick Beverley</td>\n",
       "      <td>2.624669</td>\n",
       "      <td>PG</td>\n",
       "    </tr>\n",
       "    <tr>\n",
       "      <th>...</th>\n",
       "      <td>...</td>\n",
       "      <td>...</td>\n",
       "      <td>...</td>\n",
       "    </tr>\n",
       "    <tr>\n",
       "      <th>486</th>\n",
       "      <td>Derrick Walton</td>\n",
       "      <td>2.312535</td>\n",
       "      <td>PG</td>\n",
       "    </tr>\n",
       "    <tr>\n",
       "      <th>487</th>\n",
       "      <td>Derrick Walton</td>\n",
       "      <td>2.360854</td>\n",
       "      <td>PG</td>\n",
       "    </tr>\n",
       "    <tr>\n",
       "      <th>488</th>\n",
       "      <td>Brad Wanamaker</td>\n",
       "      <td>2.797281</td>\n",
       "      <td>PG</td>\n",
       "    </tr>\n",
       "    <tr>\n",
       "      <th>492</th>\n",
       "      <td>Russell Westbrook</td>\n",
       "      <td>3.569533</td>\n",
       "      <td>PG</td>\n",
       "    </tr>\n",
       "    <tr>\n",
       "      <th>513</th>\n",
       "      <td>Trae Young</td>\n",
       "      <td>3.666122</td>\n",
       "      <td>PG</td>\n",
       "    </tr>\n",
       "  </tbody>\n",
       "</table>\n",
       "<p>90 rows × 3 columns</p>\n",
       "</div>"
      ],
      "text/plain": [
       "                Player       PTS Pos\n",
       "12    Ryan Arcidiacono  2.602690  PG\n",
       "16       D.J. Augustin  3.020425  PG\n",
       "20          Lonzo Ball  2.873565  PG\n",
       "22          J.J. Barea  3.178054  PG\n",
       "45    Patrick Beverley  2.624669  PG\n",
       "..                 ...       ...  ..\n",
       "486     Derrick Walton  2.312535  PG\n",
       "487     Derrick Walton  2.360854  PG\n",
       "488     Brad Wanamaker  2.797281  PG\n",
       "492  Russell Westbrook  3.569533  PG\n",
       "513         Trae Young  3.666122  PG\n",
       "\n",
       "[90 rows x 3 columns]"
      ]
     },
     "execution_count": 708,
     "metadata": {},
     "output_type": "execute_result"
    }
   ],
   "source": [
    "pgs_df"
   ]
  },
  {
   "cell_type": "code",
   "execution_count": 709,
   "metadata": {},
   "outputs": [
    {
     "data": {
      "text/html": [
       "<div>\n",
       "<style scoped>\n",
       "    .dataframe tbody tr th:only-of-type {\n",
       "        vertical-align: middle;\n",
       "    }\n",
       "\n",
       "    .dataframe tbody tr th {\n",
       "        vertical-align: top;\n",
       "    }\n",
       "\n",
       "    .dataframe thead th {\n",
       "        text-align: right;\n",
       "    }\n",
       "</style>\n",
       "<table border=\"1\" class=\"dataframe\">\n",
       "  <thead>\n",
       "    <tr style=\"text-align: right;\">\n",
       "      <th></th>\n",
       "      <th>Player</th>\n",
       "      <th>PTS</th>\n",
       "      <th>Pos</th>\n",
       "    </tr>\n",
       "  </thead>\n",
       "  <tbody>\n",
       "    <tr>\n",
       "      <th>3</th>\n",
       "      <td>Nickeil Alexander-Walker</td>\n",
       "      <td>2.970414</td>\n",
       "      <td>SG</td>\n",
       "    </tr>\n",
       "    <tr>\n",
       "      <th>4</th>\n",
       "      <td>Grayson Allen</td>\n",
       "      <td>3.030134</td>\n",
       "      <td>SG</td>\n",
       "    </tr>\n",
       "    <tr>\n",
       "      <th>6</th>\n",
       "      <td>Kadeem Allen</td>\n",
       "      <td>3.034953</td>\n",
       "      <td>SG</td>\n",
       "    </tr>\n",
       "    <tr>\n",
       "      <th>18</th>\n",
       "      <td>Dwayne Bacon</td>\n",
       "      <td>2.791165</td>\n",
       "      <td>SG</td>\n",
       "    </tr>\n",
       "    <tr>\n",
       "      <th>24</th>\n",
       "      <td>RJ Barrett</td>\n",
       "      <td>3.131137</td>\n",
       "      <td>SG</td>\n",
       "    </tr>\n",
       "    <tr>\n",
       "      <th>...</th>\n",
       "      <td>...</td>\n",
       "      <td>...</td>\n",
       "      <td>...</td>\n",
       "    </tr>\n",
       "    <tr>\n",
       "      <th>493</th>\n",
       "      <td>Coby White</td>\n",
       "      <td>3.206803</td>\n",
       "      <td>SG</td>\n",
       "    </tr>\n",
       "    <tr>\n",
       "      <th>494</th>\n",
       "      <td>Derrick White</td>\n",
       "      <td>3.030134</td>\n",
       "      <td>SG</td>\n",
       "    </tr>\n",
       "    <tr>\n",
       "      <th>498</th>\n",
       "      <td>Andrew Wiggins</td>\n",
       "      <td>3.321432</td>\n",
       "      <td>SG</td>\n",
       "    </tr>\n",
       "    <tr>\n",
       "      <th>502</th>\n",
       "      <td>Lou Williams</td>\n",
       "      <td>3.401197</td>\n",
       "      <td>SG</td>\n",
       "    </tr>\n",
       "    <tr>\n",
       "      <th>511</th>\n",
       "      <td>Delon Wright</td>\n",
       "      <td>2.791165</td>\n",
       "      <td>SG</td>\n",
       "    </tr>\n",
       "  </tbody>\n",
       "</table>\n",
       "<p>129 rows × 3 columns</p>\n",
       "</div>"
      ],
      "text/plain": [
       "                       Player       PTS Pos\n",
       "3    Nickeil Alexander-Walker  2.970414  SG\n",
       "4               Grayson Allen  3.030134  SG\n",
       "6                Kadeem Allen  3.034953  SG\n",
       "18               Dwayne Bacon  2.791165  SG\n",
       "24                 RJ Barrett  3.131137  SG\n",
       "..                        ...       ...  ..\n",
       "493                Coby White  3.206803  SG\n",
       "494             Derrick White  3.030134  SG\n",
       "498            Andrew Wiggins  3.321432  SG\n",
       "502              Lou Williams  3.401197  SG\n",
       "511              Delon Wright  2.791165  SG\n",
       "\n",
       "[129 rows x 3 columns]"
      ]
     },
     "execution_count": 709,
     "metadata": {},
     "output_type": "execute_result"
    }
   ],
   "source": [
    "sgs_df"
   ]
  },
  {
   "cell_type": "code",
   "execution_count": 710,
   "metadata": {},
   "outputs": [
    {
     "data": {
      "text/plain": [
       "(array([ 5., 12., 10., 22., 23., 18., 23., 11.,  3.,  2.]),\n",
       " array([2.27212589, 2.42218939, 2.5722529 , 2.7223164 , 2.87237991,\n",
       "        3.02244341, 3.17250692, 3.32257042, 3.47263393, 3.62269743,\n",
       "        3.77276094]),\n",
       " <a list of 10 Patch objects>)"
      ]
     },
     "execution_count": 710,
     "metadata": {},
     "output_type": "execute_result"
    },
    {
     "data": {
      "image/png": "[encoded data removed]",
      "text/plain": [
       "<Figure size 432x288 with 1 Axes>"
      ]
     },
     "metadata": {
      "needs_background": "light"
     },
     "output_type": "display_data"
    }
   ],
   "source": [
    "plt.hist(sgs_df['PTS'])"
   ]
  },
  {
   "cell_type": "markdown",
   "metadata": {},
   "source": [
    "This seems to roughly follow a normal distribution. We can continue our analysis, and will assign a significance level of .05. We first compute our test statistic with the test statistic formula for a normal distribution and the difference of two means. The formula is (x_hat1 - x_hat2) / sqrt(variance1/sample_size1 + variance2/sample_size2)"
   ]
  },
  {
   "cell_type": "code",
   "execution_count": 711,
   "metadata": {},
   "outputs": [],
   "source": [
    "import math\n",
    "def test_stat(pos, pos2, stat):\n",
    "    pos_sample_mean = pos[stat].mean()\n",
    "    pos_sample_var = pos[stat].var()\n",
    "    pos_sample_size = len(pos[stat])\n",
    "    pos2_sample_mean = pos2[stat].mean()\n",
    "    pos2_sample_var = pos2[stat].var()\n",
    "    pos2_sample_size = len(pos2[stat])\n",
    "    numerator = pos_sample_mean - pos2_sample_mean\n",
    "    first_frac = pos_sample_var/pos_sample_size\n",
    "    second_frac = pos2_sample_var/pos2_sample_size\n",
    "    denominator = math.sqrt(first_frac + second_frac)\n",
    "    return numerator / denominator"
   ]
  },
  {
   "cell_type": "code",
   "execution_count": 712,
   "metadata": {},
   "outputs": [
    {
     "data": {
      "text/plain": [
       "1.3992626075923527"
      ]
     },
     "execution_count": 712,
     "metadata": {},
     "output_type": "execute_result"
    }
   ],
   "source": [
    "test_stat(pgs_df, sgs_df, 'PTS')"
   ]
  },
  {
   "cell_type": "markdown",
   "metadata": {},
   "source": [
    "This is a two tailed test so we look at Z_(significance score / 2) which is Z_.025 = 1.96 The rejection region of this two tailed test is |test_stat| > 1.96. This means that if the absolute value of our test statistic is greather than 1.96, we reject the null hypothesis. Our test_stat is 1.399 which is not greater than 1.96, so we fail to reject the null hypothesis and it seems that there is no statistically significant difference in the scoring abilities of point guards and shooting guards.\n",
    "\n",
    "\n",
    "The next thing I want to see is if there is a statistically significant difference in rebounding per 100 possession between a point guard and a center. I would be surprised if there wasn't considering centers tend to be around 6-12 inches taller than point guards. Our null hypothesis H_O is that there is no statistically significant difference and our alternate hypothesis H_a is that there is a statistically significant difference in the rebounding numbers of point guards and centers. First we want to truncate our dataframe so it only consists of point guards and centers."
   ]
  },
  {
   "cell_type": "code",
   "execution_count": 713,
   "metadata": {},
   "outputs": [],
   "source": [
    "PG_and_C_df = NBA_df[(NBA_df['Pos'] == 'PG') | (NBA_df['Pos'] == 'C')]"
   ]
  },
  {
   "cell_type": "code",
   "execution_count": 714,
   "metadata": {},
   "outputs": [],
   "source": [
    "players = PG_and_C_df['Player']\n",
    "rebounds = PG_and_C_df['TRB']\n",
    "pos = PG_and_C_df['Pos']\n",
    "pg_c_rebs_df = pd.DataFrame({'Player': players, 'TRB': rebounds, 'Pos': pos})"
   ]
  },
  {
   "cell_type": "code",
   "execution_count": 715,
   "metadata": {},
   "outputs": [
    {
     "data": {
      "text/html": [
       "<div>\n",
       "<style scoped>\n",
       "    .dataframe tbody tr th:only-of-type {\n",
       "        vertical-align: middle;\n",
       "    }\n",
       "\n",
       "    .dataframe tbody tr th {\n",
       "        vertical-align: top;\n",
       "    }\n",
       "\n",
       "    .dataframe thead th {\n",
       "        text-align: right;\n",
       "    }\n",
       "</style>\n",
       "<table border=\"1\" class=\"dataframe\">\n",
       "  <thead>\n",
       "    <tr style=\"text-align: right;\">\n",
       "      <th></th>\n",
       "      <th>Player</th>\n",
       "      <th>TRB</th>\n",
       "      <th>Pos</th>\n",
       "    </tr>\n",
       "  </thead>\n",
       "  <tbody>\n",
       "    <tr>\n",
       "      <th>0</th>\n",
       "      <td>Steven Adams</td>\n",
       "      <td>16.9</td>\n",
       "      <td>C</td>\n",
       "    </tr>\n",
       "    <tr>\n",
       "      <th>2</th>\n",
       "      <td>LaMarcus Aldridge</td>\n",
       "      <td>10.7</td>\n",
       "      <td>C</td>\n",
       "    </tr>\n",
       "    <tr>\n",
       "      <th>5</th>\n",
       "      <td>Jarrett Allen</td>\n",
       "      <td>17.4</td>\n",
       "      <td>C</td>\n",
       "    </tr>\n",
       "    <tr>\n",
       "      <th>12</th>\n",
       "      <td>Ryan Arcidiacono</td>\n",
       "      <td>5.7</td>\n",
       "      <td>PG</td>\n",
       "    </tr>\n",
       "    <tr>\n",
       "      <th>16</th>\n",
       "      <td>D.J. Augustin</td>\n",
       "      <td>4.4</td>\n",
       "      <td>PG</td>\n",
       "    </tr>\n",
       "    <tr>\n",
       "      <th>...</th>\n",
       "      <td>...</td>\n",
       "      <td>...</td>\n",
       "      <td>...</td>\n",
       "    </tr>\n",
       "    <tr>\n",
       "      <th>506</th>\n",
       "      <td>Robert Williams</td>\n",
       "      <td>16.2</td>\n",
       "      <td>C</td>\n",
       "    </tr>\n",
       "    <tr>\n",
       "      <th>513</th>\n",
       "      <td>Trae Young</td>\n",
       "      <td>5.6</td>\n",
       "      <td>PG</td>\n",
       "    </tr>\n",
       "    <tr>\n",
       "      <th>514</th>\n",
       "      <td>Cody Zeller</td>\n",
       "      <td>15.4</td>\n",
       "      <td>C</td>\n",
       "    </tr>\n",
       "    <tr>\n",
       "      <th>515</th>\n",
       "      <td>Ante Žižić</td>\n",
       "      <td>14.5</td>\n",
       "      <td>C</td>\n",
       "    </tr>\n",
       "    <tr>\n",
       "      <th>516</th>\n",
       "      <td>Ivica Zubac</td>\n",
       "      <td>18.8</td>\n",
       "      <td>C</td>\n",
       "    </tr>\n",
       "  </tbody>\n",
       "</table>\n",
       "<p>185 rows × 3 columns</p>\n",
       "</div>"
      ],
      "text/plain": [
       "                Player   TRB Pos\n",
       "0         Steven Adams  16.9   C\n",
       "2    LaMarcus Aldridge  10.7   C\n",
       "5        Jarrett Allen  17.4   C\n",
       "12    Ryan Arcidiacono   5.7  PG\n",
       "16       D.J. Augustin   4.4  PG\n",
       "..                 ...   ...  ..\n",
       "506    Robert Williams  16.2   C\n",
       "513         Trae Young   5.6  PG\n",
       "514        Cody Zeller  15.4   C\n",
       "515         Ante Žižić  14.5   C\n",
       "516        Ivica Zubac  18.8   C\n",
       "\n",
       "[185 rows x 3 columns]"
      ]
     },
     "execution_count": 715,
     "metadata": {},
     "output_type": "execute_result"
    }
   ],
   "source": [
    "pg_c_rebs_df"
   ]
  },
  {
   "cell_type": "code",
   "execution_count": 716,
   "metadata": {},
   "outputs": [],
   "source": [
    "pg_rebs = pg_c_rebs_df[pg_c_rebs_df['Pos'] == 'PG']\n",
    "c_rebs = pg_c_rebs_df[pg_c_rebs_df['Pos'] == 'C']"
   ]
  },
  {
   "cell_type": "code",
   "execution_count": 717,
   "metadata": {},
   "outputs": [
    {
     "data": {
      "text/plain": [
       "Text(0.5, 0, 'Number of rebounds')"
      ]
     },
     "execution_count": 717,
     "metadata": {},
     "output_type": "execute_result"
    },
    {
     "data": {
      "image/png": "[encoded data removed]",
      "text/plain": [
       "<Figure size 432x288 with 1 Axes>"
      ]
     },
     "metadata": {
      "needs_background": "light"
     },
     "output_type": "display_data"
    }
   ],
   "source": [
    "plt.hist(pg_rebs['TRB'], color='black')\n",
    "plt.ylabel('Distribution')\n",
    "plt.xlabel('Number of rebounds')"
   ]
  },
  {
   "cell_type": "code",
   "execution_count": 718,
   "metadata": {},
   "outputs": [
    {
     "data": {
      "text/plain": [
       "Text(0.5, 0, 'Number of Total Rebounds')"
      ]
     },
     "execution_count": 718,
     "metadata": {},
     "output_type": "execute_result"
    },
    {
     "data": {
      "image/png": "[encoded data removed]",
      "text/plain": [
       "<Figure size 432x288 with 1 Axes>"
      ]
     },
     "metadata": {
      "needs_background": "light"
     },
     "output_type": "display_data"
    }
   ],
   "source": [
    "plt.hist(c_rebs['TRB'], color='red')\n",
    "plt.ylabel('Distribution')\n",
    "plt.xlabel('Number of Total Rebounds')"
   ]
  },
  {
   "cell_type": "markdown",
   "metadata": {},
   "source": [
    "I'm going to run the distribution tests on this data and see what happens. "
   ]
  },
  {
   "cell_type": "code",
   "execution_count": 719,
   "metadata": {},
   "outputs": [
    {
     "name": "stdout",
     "output_type": "stream",
     "text": [
      "('lognorm', 0.9655885273750161)\n"
     ]
    },
    {
     "data": {
      "image/png": "[encoded data removed]",
      "text/plain": [
       "<Figure size 432x288 with 1 Axes>"
      ]
     },
     "metadata": {
      "needs_background": "light"
     },
     "output_type": "display_data"
    }
   ],
   "source": [
    "pg_dst = Distribution()\n",
    "pg_trb = pg_rebs['TRB']\n",
    "print(pg_dst.Fit(pg_trb))\n",
    "pg_dst.Plot(pg_trb)"
   ]
  },
  {
   "cell_type": "code",
   "execution_count": 720,
   "metadata": {},
   "outputs": [
    {
     "name": "stdout",
     "output_type": "stream",
     "text": [
      "('lognorm', 0.9926040721836422)\n"
     ]
    },
    {
     "data": {
      "image/png": "[encoded data removed]",
      "text/plain": [
       "<Figure size 432x288 with 1 Axes>"
      ]
     },
     "metadata": {
      "needs_background": "light"
     },
     "output_type": "display_data"
    }
   ],
   "source": [
    "c_rebounds = Distribution()\n",
    "c_trb = c_rebs['TRB']\n",
    "print(c_rebounds.Fit(c_trb))\n",
    "c_rebounds.Plot(c_trb)"
   ]
  },
  {
   "cell_type": "code",
   "execution_count": 721,
   "metadata": {},
   "outputs": [],
   "source": [
    "pg_rebs.iloc[:, 1] = pg_rebs.iloc[:, 1].apply(lambda x: ln(x))\n",
    "c_rebs.iloc[:, 1] = c_rebs.iloc[:, 1].apply(lambda x: ln(x))"
   ]
  },
  {
   "cell_type": "code",
   "execution_count": 722,
   "metadata": {},
   "outputs": [
    {
     "data": {
      "text/plain": [
       "(array([ 5.,  4., 12., 14., 25., 12.,  8.,  5.,  4.,  1.]),\n",
       " array([1.09861229, 1.24902003, 1.39942777, 1.54983551, 1.70024325,\n",
       "        1.85065099, 2.00105873, 2.15146647, 2.30187421, 2.45228195,\n",
       "        2.60268969]),\n",
       " <a list of 10 Patch objects>)"
      ]
     },
     "execution_count": 722,
     "metadata": {},
     "output_type": "execute_result"
    },
    {
     "data": {
      "image/png": "[encoded data removed]",
      "text/plain": [
       "<Figure size 432x288 with 1 Axes>"
      ]
     },
     "metadata": {
      "needs_background": "light"
     },
     "output_type": "display_data"
    }
   ],
   "source": [
    "plt.hist(pg_rebs['TRB'])"
   ]
  },
  {
   "cell_type": "code",
   "execution_count": 723,
   "metadata": {},
   "outputs": [
    {
     "data": {
      "text/plain": [
       "(array([ 4.,  2.,  2., 12., 10., 15., 20., 13., 10.,  7.]),\n",
       " array([1.97408103, 2.09022235, 2.20636366, 2.32250498, 2.4386463 ,\n",
       "        2.55478762, 2.67092894, 2.78707026, 2.90321158, 3.0193529 ,\n",
       "        3.13549422]),\n",
       " <a list of 10 Patch objects>)"
      ]
     },
     "execution_count": 723,
     "metadata": {},
     "output_type": "execute_result"
    },
    {
     "data": {
      "image/png": "[encoded data removed]",
      "text/plain": [
       "<Figure size 432x288 with 1 Axes>"
      ]
     },
     "metadata": {
      "needs_background": "light"
     },
     "output_type": "display_data"
    }
   ],
   "source": [
    "plt.hist(c_rebs['TRB'])"
   ]
  },
  {
   "cell_type": "markdown",
   "metadata": {},
   "source": [
    "It seems that the distributions are roughly normal now. "
   ]
  },
  {
   "cell_type": "code",
   "execution_count": 724,
   "metadata": {},
   "outputs": [
    {
     "data": {
      "text/plain": [
       "-21.908083421730904"
      ]
     },
     "execution_count": 724,
     "metadata": {},
     "output_type": "execute_result"
    }
   ],
   "source": [
    "test_stat(pg_rebs, c_rebs, 'TRB')"
   ]
  },
  {
   "cell_type": "markdown",
   "metadata": {},
   "source": [
    "Since we're only looking at if the means differ, this is a two tailed test. That means that if the absolute value of our test statistic is greater than the absolute value of Z at our alpha level, we reject the null hypothesis. As we can see the absolute value of our test stat is much greater than 1.96, so we reject the null hypothesis. This makes sense because one of the main roles of a center is to get rebounds while a point guard isn't too concerned with rebounding the basketball."
   ]
  },
  {
   "cell_type": "code",
   "execution_count": 725,
   "metadata": {},
   "outputs": [
    {
     "data": {
      "text/plain": [
       "count    90.000000\n",
       "mean      1.760162\n",
       "std       0.292398\n",
       "min       1.098612\n",
       "25%       1.568616\n",
       "50%       1.740466\n",
       "75%       1.942313\n",
       "max       2.602690\n",
       "Name: TRB, dtype: float64"
      ]
     },
     "execution_count": 725,
     "metadata": {},
     "output_type": "execute_result"
    }
   ],
   "source": [
    "pg_rebs['TRB'].describe()"
   ]
  },
  {
   "cell_type": "code",
   "execution_count": 726,
   "metadata": {},
   "outputs": [
    {
     "data": {
      "text/plain": [
       "count    95.000000\n",
       "mean      2.654422\n",
       "std       0.260844\n",
       "min       1.974081\n",
       "25%       2.484907\n",
       "50%       2.694627\n",
       "75%       2.824346\n",
       "max       3.135494\n",
       "Name: TRB, dtype: float64"
      ]
     },
     "execution_count": 726,
     "metadata": {},
     "output_type": "execute_result"
    }
   ],
   "source": [
    "c_rebs['TRB'].describe()"
   ]
  },
  {
   "cell_type": "markdown",
   "metadata": {},
   "source": [
    "Looking at the simple statistics of the data, the minimum of the centers total rebounds is higher than the 75th percentile for the point guards. That's even more evidence that our test checks out and that the difference should be statistically significant. \n"
   ]
  },
  {
   "cell_type": "code",
   "execution_count": 727,
   "metadata": {},
   "outputs": [
    {
     "data": {
      "text/html": [
       "<div>\n",
       "<style scoped>\n",
       "    .dataframe tbody tr th:only-of-type {\n",
       "        vertical-align: middle;\n",
       "    }\n",
       "\n",
       "    .dataframe tbody tr th {\n",
       "        vertical-align: top;\n",
       "    }\n",
       "\n",
       "    .dataframe thead th {\n",
       "        text-align: right;\n",
       "    }\n",
       "</style>\n",
       "<table border=\"1\" class=\"dataframe\">\n",
       "  <thead>\n",
       "    <tr style=\"text-align: right;\">\n",
       "      <th></th>\n",
       "      <th>Player</th>\n",
       "      <th>Pos</th>\n",
       "      <th>Age</th>\n",
       "      <th>Tm</th>\n",
       "      <th>G</th>\n",
       "      <th>GS</th>\n",
       "      <th>MP</th>\n",
       "      <th>FG</th>\n",
       "      <th>FGA</th>\n",
       "      <th>FG%</th>\n",
       "      <th>...</th>\n",
       "      <th>DRB</th>\n",
       "      <th>TRB</th>\n",
       "      <th>AST</th>\n",
       "      <th>STL</th>\n",
       "      <th>BLK</th>\n",
       "      <th>TOV</th>\n",
       "      <th>PF</th>\n",
       "      <th>PTS</th>\n",
       "      <th>ORtg</th>\n",
       "      <th>DRtg</th>\n",
       "    </tr>\n",
       "  </thead>\n",
       "  <tbody>\n",
       "    <tr>\n",
       "      <th>0</th>\n",
       "      <td>Steven Adams</td>\n",
       "      <td>C</td>\n",
       "      <td>26</td>\n",
       "      <td>OKC</td>\n",
       "      <td>58</td>\n",
       "      <td>58</td>\n",
       "      <td>1564</td>\n",
       "      <td>8.2</td>\n",
       "      <td>13.8</td>\n",
       "      <td>0.591</td>\n",
       "      <td>...</td>\n",
       "      <td>10.8</td>\n",
       "      <td>16.9</td>\n",
       "      <td>4.4</td>\n",
       "      <td>1.6</td>\n",
       "      <td>2.0</td>\n",
       "      <td>2.7</td>\n",
       "      <td>3.5</td>\n",
       "      <td>19.7</td>\n",
       "      <td>123.0</td>\n",
       "      <td>106</td>\n",
       "    </tr>\n",
       "    <tr>\n",
       "      <th>1</th>\n",
       "      <td>Bam Adebayo</td>\n",
       "      <td>PF</td>\n",
       "      <td>22</td>\n",
       "      <td>MIA</td>\n",
       "      <td>65</td>\n",
       "      <td>65</td>\n",
       "      <td>2235</td>\n",
       "      <td>8.9</td>\n",
       "      <td>15.7</td>\n",
       "      <td>0.567</td>\n",
       "      <td>...</td>\n",
       "      <td>11.3</td>\n",
       "      <td>15.0</td>\n",
       "      <td>7.3</td>\n",
       "      <td>1.7</td>\n",
       "      <td>1.9</td>\n",
       "      <td>4.0</td>\n",
       "      <td>3.6</td>\n",
       "      <td>23.1</td>\n",
       "      <td>117.0</td>\n",
       "      <td>106</td>\n",
       "    </tr>\n",
       "    <tr>\n",
       "      <th>2</th>\n",
       "      <td>LaMarcus Aldridge</td>\n",
       "      <td>C</td>\n",
       "      <td>34</td>\n",
       "      <td>SAS</td>\n",
       "      <td>53</td>\n",
       "      <td>53</td>\n",
       "      <td>1754</td>\n",
       "      <td>10.7</td>\n",
       "      <td>21.7</td>\n",
       "      <td>0.493</td>\n",
       "      <td>...</td>\n",
       "      <td>7.9</td>\n",
       "      <td>10.7</td>\n",
       "      <td>3.5</td>\n",
       "      <td>1.0</td>\n",
       "      <td>2.4</td>\n",
       "      <td>2.0</td>\n",
       "      <td>3.5</td>\n",
       "      <td>27.4</td>\n",
       "      <td>115.0</td>\n",
       "      <td>113</td>\n",
       "    </tr>\n",
       "    <tr>\n",
       "      <th>3</th>\n",
       "      <td>Nickeil Alexander-Walker</td>\n",
       "      <td>SG</td>\n",
       "      <td>21</td>\n",
       "      <td>NOP</td>\n",
       "      <td>41</td>\n",
       "      <td>0</td>\n",
       "      <td>501</td>\n",
       "      <td>7.1</td>\n",
       "      <td>20.9</td>\n",
       "      <td>0.339</td>\n",
       "      <td>...</td>\n",
       "      <td>6.6</td>\n",
       "      <td>7.4</td>\n",
       "      <td>6.8</td>\n",
       "      <td>1.0</td>\n",
       "      <td>0.6</td>\n",
       "      <td>3.7</td>\n",
       "      <td>4.2</td>\n",
       "      <td>19.5</td>\n",
       "      <td>91.0</td>\n",
       "      <td>113</td>\n",
       "    </tr>\n",
       "    <tr>\n",
       "      <th>4</th>\n",
       "      <td>Grayson Allen</td>\n",
       "      <td>SG</td>\n",
       "      <td>24</td>\n",
       "      <td>MEM</td>\n",
       "      <td>30</td>\n",
       "      <td>0</td>\n",
       "      <td>498</td>\n",
       "      <td>7.4</td>\n",
       "      <td>16.5</td>\n",
       "      <td>0.449</td>\n",
       "      <td>...</td>\n",
       "      <td>5.7</td>\n",
       "      <td>6.2</td>\n",
       "      <td>4.0</td>\n",
       "      <td>0.6</td>\n",
       "      <td>0.1</td>\n",
       "      <td>2.2</td>\n",
       "      <td>3.4</td>\n",
       "      <td>20.7</td>\n",
       "      <td>111.0</td>\n",
       "      <td>115</td>\n",
       "    </tr>\n",
       "    <tr>\n",
       "      <th>...</th>\n",
       "      <td>...</td>\n",
       "      <td>...</td>\n",
       "      <td>...</td>\n",
       "      <td>...</td>\n",
       "      <td>...</td>\n",
       "      <td>...</td>\n",
       "      <td>...</td>\n",
       "      <td>...</td>\n",
       "      <td>...</td>\n",
       "      <td>...</td>\n",
       "      <td>...</td>\n",
       "      <td>...</td>\n",
       "      <td>...</td>\n",
       "      <td>...</td>\n",
       "      <td>...</td>\n",
       "      <td>...</td>\n",
       "      <td>...</td>\n",
       "      <td>...</td>\n",
       "      <td>...</td>\n",
       "      <td>...</td>\n",
       "      <td>...</td>\n",
       "    </tr>\n",
       "    <tr>\n",
       "      <th>512</th>\n",
       "      <td>Thaddeus Young</td>\n",
       "      <td>PF</td>\n",
       "      <td>31</td>\n",
       "      <td>CHI</td>\n",
       "      <td>64</td>\n",
       "      <td>16</td>\n",
       "      <td>1591</td>\n",
       "      <td>8.1</td>\n",
       "      <td>18.2</td>\n",
       "      <td>0.448</td>\n",
       "      <td>...</td>\n",
       "      <td>6.7</td>\n",
       "      <td>9.5</td>\n",
       "      <td>3.5</td>\n",
       "      <td>2.8</td>\n",
       "      <td>0.7</td>\n",
       "      <td>3.1</td>\n",
       "      <td>4.1</td>\n",
       "      <td>20.0</td>\n",
       "      <td>101.0</td>\n",
       "      <td>108</td>\n",
       "    </tr>\n",
       "    <tr>\n",
       "      <th>513</th>\n",
       "      <td>Trae Young</td>\n",
       "      <td>PG</td>\n",
       "      <td>21</td>\n",
       "      <td>ATL</td>\n",
       "      <td>60</td>\n",
       "      <td>60</td>\n",
       "      <td>2120</td>\n",
       "      <td>12.0</td>\n",
       "      <td>27.5</td>\n",
       "      <td>0.437</td>\n",
       "      <td>...</td>\n",
       "      <td>4.9</td>\n",
       "      <td>5.6</td>\n",
       "      <td>12.3</td>\n",
       "      <td>1.4</td>\n",
       "      <td>0.2</td>\n",
       "      <td>6.4</td>\n",
       "      <td>2.3</td>\n",
       "      <td>39.1</td>\n",
       "      <td>114.0</td>\n",
       "      <td>117</td>\n",
       "    </tr>\n",
       "    <tr>\n",
       "      <th>514</th>\n",
       "      <td>Cody Zeller</td>\n",
       "      <td>C</td>\n",
       "      <td>27</td>\n",
       "      <td>CHO</td>\n",
       "      <td>58</td>\n",
       "      <td>39</td>\n",
       "      <td>1341</td>\n",
       "      <td>9.4</td>\n",
       "      <td>17.9</td>\n",
       "      <td>0.524</td>\n",
       "      <td>...</td>\n",
       "      <td>9.4</td>\n",
       "      <td>15.4</td>\n",
       "      <td>3.3</td>\n",
       "      <td>1.5</td>\n",
       "      <td>0.9</td>\n",
       "      <td>2.8</td>\n",
       "      <td>5.2</td>\n",
       "      <td>24.0</td>\n",
       "      <td>116.0</td>\n",
       "      <td>111</td>\n",
       "    </tr>\n",
       "    <tr>\n",
       "      <th>515</th>\n",
       "      <td>Ante Žižić</td>\n",
       "      <td>C</td>\n",
       "      <td>23</td>\n",
       "      <td>CLE</td>\n",
       "      <td>22</td>\n",
       "      <td>0</td>\n",
       "      <td>221</td>\n",
       "      <td>9.0</td>\n",
       "      <td>15.9</td>\n",
       "      <td>0.569</td>\n",
       "      <td>...</td>\n",
       "      <td>10.6</td>\n",
       "      <td>14.5</td>\n",
       "      <td>1.3</td>\n",
       "      <td>1.5</td>\n",
       "      <td>1.1</td>\n",
       "      <td>2.2</td>\n",
       "      <td>5.9</td>\n",
       "      <td>21.1</td>\n",
       "      <td>116.0</td>\n",
       "      <td>113</td>\n",
       "    </tr>\n",
       "    <tr>\n",
       "      <th>516</th>\n",
       "      <td>Ivica Zubac</td>\n",
       "      <td>C</td>\n",
       "      <td>22</td>\n",
       "      <td>LAC</td>\n",
       "      <td>64</td>\n",
       "      <td>62</td>\n",
       "      <td>1156</td>\n",
       "      <td>8.2</td>\n",
       "      <td>13.7</td>\n",
       "      <td>0.601</td>\n",
       "      <td>...</td>\n",
       "      <td>12.0</td>\n",
       "      <td>18.8</td>\n",
       "      <td>2.8</td>\n",
       "      <td>0.5</td>\n",
       "      <td>2.4</td>\n",
       "      <td>2.2</td>\n",
       "      <td>6.0</td>\n",
       "      <td>20.8</td>\n",
       "      <td>132.0</td>\n",
       "      <td>104</td>\n",
       "    </tr>\n",
       "  </tbody>\n",
       "</table>\n",
       "<p>517 rows × 30 columns</p>\n",
       "</div>"
      ],
      "text/plain": [
       "                       Player Pos  Age   Tm   G  GS    MP    FG   FGA    FG%  \\\n",
       "0                Steven Adams   C   26  OKC  58  58  1564   8.2  13.8  0.591   \n",
       "1                 Bam Adebayo  PF   22  MIA  65  65  2235   8.9  15.7  0.567   \n",
       "2           LaMarcus Aldridge   C   34  SAS  53  53  1754  10.7  21.7  0.493   \n",
       "3    Nickeil Alexander-Walker  SG   21  NOP  41   0   501   7.1  20.9  0.339   \n",
       "4               Grayson Allen  SG   24  MEM  30   0   498   7.4  16.5  0.449   \n",
       "..                        ...  ..  ...  ...  ..  ..   ...   ...   ...    ...   \n",
       "512            Thaddeus Young  PF   31  CHI  64  16  1591   8.1  18.2  0.448   \n",
       "513                Trae Young  PG   21  ATL  60  60  2120  12.0  27.5  0.437   \n",
       "514               Cody Zeller   C   27  CHO  58  39  1341   9.4  17.9  0.524   \n",
       "515                Ante Žižić   C   23  CLE  22   0   221   9.0  15.9  0.569   \n",
       "516               Ivica Zubac   C   22  LAC  64  62  1156   8.2  13.7  0.601   \n",
       "\n",
       "     ...   DRB   TRB   AST  STL  BLK  TOV   PF   PTS   ORtg  DRtg  \n",
       "0    ...  10.8  16.9   4.4  1.6  2.0  2.7  3.5  19.7  123.0   106  \n",
       "1    ...  11.3  15.0   7.3  1.7  1.9  4.0  3.6  23.1  117.0   106  \n",
       "2    ...   7.9  10.7   3.5  1.0  2.4  2.0  3.5  27.4  115.0   113  \n",
       "3    ...   6.6   7.4   6.8  1.0  0.6  3.7  4.2  19.5   91.0   113  \n",
       "4    ...   5.7   6.2   4.0  0.6  0.1  2.2  3.4  20.7  111.0   115  \n",
       "..   ...   ...   ...   ...  ...  ...  ...  ...   ...    ...   ...  \n",
       "512  ...   6.7   9.5   3.5  2.8  0.7  3.1  4.1  20.0  101.0   108  \n",
       "513  ...   4.9   5.6  12.3  1.4  0.2  6.4  2.3  39.1  114.0   117  \n",
       "514  ...   9.4  15.4   3.3  1.5  0.9  2.8  5.2  24.0  116.0   111  \n",
       "515  ...  10.6  14.5   1.3  1.5  1.1  2.2  5.9  21.1  116.0   113  \n",
       "516  ...  12.0  18.8   2.8  0.5  2.4  2.2  6.0  20.8  132.0   104  \n",
       "\n",
       "[517 rows x 30 columns]"
      ]
     },
     "execution_count": 727,
     "metadata": {},
     "output_type": "execute_result"
    }
   ],
   "source": [
    "NBA_df"
   ]
  },
  {
   "cell_type": "markdown",
   "metadata": {},
   "source": [
    "For this next part I want to use machine learning techniques to see if I can predict a player's position based on any statistic that I think could be different based off the position of the player. "
   ]
  },
  {
   "cell_type": "code",
   "execution_count": 728,
   "metadata": {},
   "outputs": [],
   "source": [
    "import numpy as np"
   ]
  },
  {
   "cell_type": "code",
   "execution_count": 729,
   "metadata": {},
   "outputs": [],
   "source": [
    "#normally I would start at 0 but in basketball the positions are sometimes referred to as \"the 1\" for the point guard, 2 for shooting guard, and so on\n",
    "def pos_to_int(pos):\n",
    "    if pos == 'PG':\n",
    "        return 1\n",
    "    elif pos == 'SG':\n",
    "        return 2\n",
    "    elif pos == 'SF':\n",
    "        return 3\n",
    "    elif pos == 'PF':\n",
    "        return 4\n",
    "    else:\n",
    "        return 5"
   ]
  },
  {
   "cell_type": "code",
   "execution_count": 730,
   "metadata": {},
   "outputs": [],
   "source": [
    "NBA_df['Pos'] = NBA_df['Pos'].apply(lambda x: pos_to_int(x))"
   ]
  },
  {
   "cell_type": "code",
   "execution_count": 818,
   "metadata": {},
   "outputs": [],
   "source": [
    "ml_df = NBA_df[['Pos', 'AST', 'TRB', 'FG%', 'STL', 'BLK', 'FTA', 'ORB', 'FGA', 'FT%', 'DRB', '3PA', 'ORtg', 'DRtg']]\n",
    "ml_df = ml_df.dropna(axis=0, how='any')"
   ]
  },
  {
   "cell_type": "code",
   "execution_count": 819,
   "metadata": {},
   "outputs": [
    {
     "data": {
      "text/html": [
       "<div>\n",
       "<style scoped>\n",
       "    .dataframe tbody tr th:only-of-type {\n",
       "        vertical-align: middle;\n",
       "    }\n",
       "\n",
       "    .dataframe tbody tr th {\n",
       "        vertical-align: top;\n",
       "    }\n",
       "\n",
       "    .dataframe thead th {\n",
       "        text-align: right;\n",
       "    }\n",
       "</style>\n",
       "<table border=\"1\" class=\"dataframe\">\n",
       "  <thead>\n",
       "    <tr style=\"text-align: right;\">\n",
       "      <th></th>\n",
       "      <th>Pos</th>\n",
       "      <th>AST</th>\n",
       "      <th>TRB</th>\n",
       "      <th>FG%</th>\n",
       "      <th>STL</th>\n",
       "      <th>BLK</th>\n",
       "      <th>FTA</th>\n",
       "      <th>ORB</th>\n",
       "      <th>FGA</th>\n",
       "      <th>FT%</th>\n",
       "      <th>DRB</th>\n",
       "      <th>3PA</th>\n",
       "      <th>ORtg</th>\n",
       "      <th>DRtg</th>\n",
       "    </tr>\n",
       "  </thead>\n",
       "  <tbody>\n",
       "    <tr>\n",
       "      <th>0</th>\n",
       "      <td>5</td>\n",
       "      <td>4.4</td>\n",
       "      <td>16.9</td>\n",
       "      <td>0.591</td>\n",
       "      <td>1.6</td>\n",
       "      <td>2.0</td>\n",
       "      <td>5.7</td>\n",
       "      <td>6.1</td>\n",
       "      <td>13.8</td>\n",
       "      <td>0.590</td>\n",
       "      <td>10.8</td>\n",
       "      <td>0.1</td>\n",
       "      <td>123.0</td>\n",
       "      <td>106</td>\n",
       "    </tr>\n",
       "    <tr>\n",
       "      <th>1</th>\n",
       "      <td>4</td>\n",
       "      <td>7.3</td>\n",
       "      <td>15.0</td>\n",
       "      <td>0.567</td>\n",
       "      <td>1.7</td>\n",
       "      <td>1.9</td>\n",
       "      <td>7.5</td>\n",
       "      <td>3.6</td>\n",
       "      <td>15.7</td>\n",
       "      <td>0.690</td>\n",
       "      <td>11.3</td>\n",
       "      <td>0.3</td>\n",
       "      <td>117.0</td>\n",
       "      <td>106</td>\n",
       "    </tr>\n",
       "    <tr>\n",
       "      <th>2</th>\n",
       "      <td>5</td>\n",
       "      <td>3.5</td>\n",
       "      <td>10.7</td>\n",
       "      <td>0.493</td>\n",
       "      <td>1.0</td>\n",
       "      <td>2.4</td>\n",
       "      <td>5.2</td>\n",
       "      <td>2.8</td>\n",
       "      <td>21.7</td>\n",
       "      <td>0.827</td>\n",
       "      <td>7.9</td>\n",
       "      <td>4.3</td>\n",
       "      <td>115.0</td>\n",
       "      <td>113</td>\n",
       "    </tr>\n",
       "    <tr>\n",
       "      <th>3</th>\n",
       "      <td>2</td>\n",
       "      <td>6.8</td>\n",
       "      <td>7.4</td>\n",
       "      <td>0.339</td>\n",
       "      <td>1.0</td>\n",
       "      <td>0.6</td>\n",
       "      <td>2.6</td>\n",
       "      <td>0.7</td>\n",
       "      <td>20.9</td>\n",
       "      <td>0.607</td>\n",
       "      <td>6.6</td>\n",
       "      <td>10.8</td>\n",
       "      <td>91.0</td>\n",
       "      <td>113</td>\n",
       "    </tr>\n",
       "    <tr>\n",
       "      <th>4</th>\n",
       "      <td>2</td>\n",
       "      <td>4.0</td>\n",
       "      <td>6.2</td>\n",
       "      <td>0.449</td>\n",
       "      <td>0.6</td>\n",
       "      <td>0.1</td>\n",
       "      <td>3.3</td>\n",
       "      <td>0.5</td>\n",
       "      <td>16.5</td>\n",
       "      <td>0.857</td>\n",
       "      <td>5.7</td>\n",
       "      <td>8.5</td>\n",
       "      <td>111.0</td>\n",
       "      <td>115</td>\n",
       "    </tr>\n",
       "    <tr>\n",
       "      <th>...</th>\n",
       "      <td>...</td>\n",
       "      <td>...</td>\n",
       "      <td>...</td>\n",
       "      <td>...</td>\n",
       "      <td>...</td>\n",
       "      <td>...</td>\n",
       "      <td>...</td>\n",
       "      <td>...</td>\n",
       "      <td>...</td>\n",
       "      <td>...</td>\n",
       "      <td>...</td>\n",
       "      <td>...</td>\n",
       "      <td>...</td>\n",
       "      <td>...</td>\n",
       "    </tr>\n",
       "    <tr>\n",
       "      <th>512</th>\n",
       "      <td>4</td>\n",
       "      <td>3.5</td>\n",
       "      <td>9.5</td>\n",
       "      <td>0.448</td>\n",
       "      <td>2.8</td>\n",
       "      <td>0.7</td>\n",
       "      <td>2.2</td>\n",
       "      <td>2.8</td>\n",
       "      <td>18.2</td>\n",
       "      <td>0.583</td>\n",
       "      <td>6.7</td>\n",
       "      <td>6.7</td>\n",
       "      <td>101.0</td>\n",
       "      <td>108</td>\n",
       "    </tr>\n",
       "    <tr>\n",
       "      <th>513</th>\n",
       "      <td>1</td>\n",
       "      <td>12.3</td>\n",
       "      <td>5.6</td>\n",
       "      <td>0.437</td>\n",
       "      <td>1.4</td>\n",
       "      <td>0.2</td>\n",
       "      <td>12.3</td>\n",
       "      <td>0.7</td>\n",
       "      <td>27.5</td>\n",
       "      <td>0.860</td>\n",
       "      <td>4.9</td>\n",
       "      <td>12.5</td>\n",
       "      <td>114.0</td>\n",
       "      <td>117</td>\n",
       "    </tr>\n",
       "    <tr>\n",
       "      <th>514</th>\n",
       "      <td>5</td>\n",
       "      <td>3.3</td>\n",
       "      <td>15.4</td>\n",
       "      <td>0.524</td>\n",
       "      <td>1.5</td>\n",
       "      <td>0.9</td>\n",
       "      <td>6.7</td>\n",
       "      <td>6.0</td>\n",
       "      <td>17.9</td>\n",
       "      <td>0.682</td>\n",
       "      <td>9.4</td>\n",
       "      <td>2.8</td>\n",
       "      <td>116.0</td>\n",
       "      <td>111</td>\n",
       "    </tr>\n",
       "    <tr>\n",
       "      <th>515</th>\n",
       "      <td>5</td>\n",
       "      <td>1.3</td>\n",
       "      <td>14.5</td>\n",
       "      <td>0.569</td>\n",
       "      <td>1.5</td>\n",
       "      <td>1.1</td>\n",
       "      <td>4.2</td>\n",
       "      <td>4.0</td>\n",
       "      <td>15.9</td>\n",
       "      <td>0.737</td>\n",
       "      <td>10.6</td>\n",
       "      <td>0.0</td>\n",
       "      <td>116.0</td>\n",
       "      <td>113</td>\n",
       "    </tr>\n",
       "    <tr>\n",
       "      <th>516</th>\n",
       "      <td>5</td>\n",
       "      <td>2.8</td>\n",
       "      <td>18.8</td>\n",
       "      <td>0.601</td>\n",
       "      <td>0.5</td>\n",
       "      <td>2.4</td>\n",
       "      <td>5.8</td>\n",
       "      <td>6.8</td>\n",
       "      <td>13.7</td>\n",
       "      <td>0.759</td>\n",
       "      <td>12.0</td>\n",
       "      <td>0.1</td>\n",
       "      <td>132.0</td>\n",
       "      <td>104</td>\n",
       "    </tr>\n",
       "  </tbody>\n",
       "</table>\n",
       "<p>516 rows × 14 columns</p>\n",
       "</div>"
      ],
      "text/plain": [
       "     Pos   AST   TRB    FG%  STL  BLK   FTA  ORB   FGA    FT%   DRB   3PA  \\\n",
       "0      5   4.4  16.9  0.591  1.6  2.0   5.7  6.1  13.8  0.590  10.8   0.1   \n",
       "1      4   7.3  15.0  0.567  1.7  1.9   7.5  3.6  15.7  0.690  11.3   0.3   \n",
       "2      5   3.5  10.7  0.493  1.0  2.4   5.2  2.8  21.7  0.827   7.9   4.3   \n",
       "3      2   6.8   7.4  0.339  1.0  0.6   2.6  0.7  20.9  0.607   6.6  10.8   \n",
       "4      2   4.0   6.2  0.449  0.6  0.1   3.3  0.5  16.5  0.857   5.7   8.5   \n",
       "..   ...   ...   ...    ...  ...  ...   ...  ...   ...    ...   ...   ...   \n",
       "512    4   3.5   9.5  0.448  2.8  0.7   2.2  2.8  18.2  0.583   6.7   6.7   \n",
       "513    1  12.3   5.6  0.437  1.4  0.2  12.3  0.7  27.5  0.860   4.9  12.5   \n",
       "514    5   3.3  15.4  0.524  1.5  0.9   6.7  6.0  17.9  0.682   9.4   2.8   \n",
       "515    5   1.3  14.5  0.569  1.5  1.1   4.2  4.0  15.9  0.737  10.6   0.0   \n",
       "516    5   2.8  18.8  0.601  0.5  2.4   5.8  6.8  13.7  0.759  12.0   0.1   \n",
       "\n",
       "      ORtg  DRtg  \n",
       "0    123.0   106  \n",
       "1    117.0   106  \n",
       "2    115.0   113  \n",
       "3     91.0   113  \n",
       "4    111.0   115  \n",
       "..     ...   ...  \n",
       "512  101.0   108  \n",
       "513  114.0   117  \n",
       "514  116.0   111  \n",
       "515  116.0   113  \n",
       "516  132.0   104  \n",
       "\n",
       "[516 rows x 14 columns]"
      ]
     },
     "execution_count": 819,
     "metadata": {},
     "output_type": "execute_result"
    }
   ],
   "source": [
    "ml_df"
   ]
  },
  {
   "cell_type": "code",
   "execution_count": 820,
   "metadata": {},
   "outputs": [],
   "source": [
    "ml_df = ml_df.values"
   ]
  },
  {
   "cell_type": "code",
   "execution_count": 821,
   "metadata": {},
   "outputs": [],
   "source": [
    "X = ml_df[:, 1:]\n",
    "Y = ml_df[:, 0]"
   ]
  },
  {
   "cell_type": "code",
   "execution_count": 822,
   "metadata": {},
   "outputs": [],
   "source": [
    "from sklearn.model_selection import train_test_split"
   ]
  },
  {
   "cell_type": "code",
   "execution_count": 823,
   "metadata": {},
   "outputs": [],
   "source": [
    "X_train, X_test, Y_train, Y_test = train_test_split(X, Y, test_size=0.25)"
   ]
  },
  {
   "cell_type": "code",
   "execution_count": 824,
   "metadata": {},
   "outputs": [
    {
     "data": {
      "text/plain": [
       "array([3., 2., 4., 5., 2., 5., 1., 3., 1., 1., 4., 2., 2., 4., 5., 3., 2.,\n",
       "       2., 2., 4., 1., 5., 4., 4., 1., 1., 1., 5., 2., 4., 2., 2., 4., 1.,\n",
       "       5., 5., 1., 4., 4., 3., 5., 2., 2., 3., 2., 4., 5., 4., 2., 5., 5.,\n",
       "       1., 1., 5., 2., 2., 1., 4., 3., 1., 5., 5., 3., 3., 2., 3., 5., 3.,\n",
       "       1., 3., 4., 4., 1., 2., 1., 1., 1., 4., 4., 4., 3., 4., 2., 3., 4.,\n",
       "       4., 1., 2., 4., 1., 5., 5., 5., 4., 2., 2., 2., 5., 3., 4., 3., 4.,\n",
       "       2., 5., 3., 2., 3., 4., 3., 4., 1., 5., 3., 5., 3., 2., 1., 1., 3.,\n",
       "       1., 4., 3., 5., 2., 2., 4., 1., 1., 3.])"
      ]
     },
     "execution_count": 824,
     "metadata": {},
     "output_type": "execute_result"
    }
   ],
   "source": [
    "Y_test"
   ]
  },
  {
   "cell_type": "markdown",
   "metadata": {},
   "source": [
    "For our algorithm we'll explore the results of both logistic regression and K-Neighbors."
   ]
  },
  {
   "cell_type": "code",
   "execution_count": 825,
   "metadata": {},
   "outputs": [],
   "source": [
    "from sklearn.linear_model import LogisticRegression\n",
    "from sklearn.neighbors import KNeighborsClassifier\n",
    "from sklearn.metrics import accuracy_score"
   ]
  },
  {
   "cell_type": "code",
   "execution_count": 826,
   "metadata": {},
   "outputs": [],
   "source": [
    "KN_model = KNeighborsClassifier().fit(X_train, Y_train)"
   ]
  },
  {
   "cell_type": "code",
   "execution_count": 827,
   "metadata": {},
   "outputs": [],
   "source": [
    "y_pred = KN_model.predict(X_test)"
   ]
  },
  {
   "cell_type": "code",
   "execution_count": 828,
   "metadata": {},
   "outputs": [
    {
     "data": {
      "text/plain": [
       "array([3., 2., 4., 5., 3., 4., 1., 3., 1., 1., 4., 2., 3., 5., 5., 4., 2.,\n",
       "       1., 2., 4., 1., 4., 3., 3., 1., 2., 1., 3., 3., 2., 2., 1., 3., 2.,\n",
       "       3., 5., 2., 2., 4., 2., 5., 2., 2., 3., 1., 2., 5., 5., 5., 2., 5.,\n",
       "       1., 2., 5., 2., 2., 2., 5., 4., 1., 3., 4., 4., 4., 2., 3., 5., 3.,\n",
       "       1., 1., 5., 4., 1., 3., 2., 2., 1., 5., 2., 4., 3., 2., 2., 3., 2.,\n",
       "       3., 1., 1., 4., 1., 5., 5., 5., 4., 2., 3., 2., 5., 4., 3., 2., 3.,\n",
       "       1., 5., 3., 2., 2., 4., 4., 5., 1., 2., 2., 3., 4., 1., 1., 1., 2.,\n",
       "       1., 5., 3., 5., 2., 1., 3., 1., 1., 2.])"
      ]
     },
     "execution_count": 828,
     "metadata": {},
     "output_type": "execute_result"
    }
   ],
   "source": [
    "y_pred"
   ]
  },
  {
   "cell_type": "code",
   "execution_count": 829,
   "metadata": {},
   "outputs": [
    {
     "data": {
      "text/plain": [
       "0.5116279069767442"
      ]
     },
     "execution_count": 829,
     "metadata": {},
     "output_type": "execute_result"
    }
   ],
   "source": [
    "accuracy_score(y_pred, Y_test)"
   ]
  },
  {
   "cell_type": "code",
   "execution_count": 830,
   "metadata": {},
   "outputs": [
    {
     "name": "stderr",
     "output_type": "stream",
     "text": [
      "C:\\Users\\alper\\AppData\\Roaming\\Python\\Python37\\site-packages\\sklearn\\linear_model\\_logistic.py:940: ConvergenceWarning: lbfgs failed to converge (status=1):\n",
      "STOP: TOTAL NO. of ITERATIONS REACHED LIMIT.\n",
      "\n",
      "Increase the number of iterations (max_iter) or scale the data as shown in:\n",
      "    https://scikit-learn.org/stable/modules/preprocessing.html\n",
      "Please also refer to the documentation for alternative solver options:\n",
      "    https://scikit-learn.org/stable/modules/linear_model.html#logistic-regression\n",
      "  extra_warning_msg=_LOGISTIC_SOLVER_CONVERGENCE_MSG)\n"
     ]
    }
   ],
   "source": [
    "LR_model = LogisticRegression().fit(X_train, Y_train)"
   ]
  },
  {
   "cell_type": "code",
   "execution_count": 831,
   "metadata": {},
   "outputs": [],
   "source": [
    "y_pred = LR_model.predict(X_test)"
   ]
  },
  {
   "cell_type": "code",
   "execution_count": 832,
   "metadata": {},
   "outputs": [
    {
     "data": {
      "text/plain": [
       "array([3., 2., 4., 5., 1., 5., 1., 2., 1., 2., 4., 2., 2., 5., 5., 4., 2.,\n",
       "       2., 2., 4., 1., 5., 4., 3., 2., 1., 1., 3., 2., 3., 2., 1., 4., 2.,\n",
       "       2., 5., 1., 2., 4., 3., 5., 2., 2., 3., 2., 4., 5., 5., 5., 4., 5.,\n",
       "       1., 1., 5., 3., 2., 1., 5., 3., 1., 4., 4., 3., 3., 2., 4., 5., 3.,\n",
       "       1., 3., 5., 5., 1., 2., 1., 2., 1., 5., 4., 4., 3., 2., 2., 4., 4.,\n",
       "       4., 1., 2., 4., 1., 5., 5., 5., 3., 2., 2., 2., 4., 4., 3., 2., 3.,\n",
       "       1., 5., 4., 2., 3., 4., 4., 4., 1., 4., 4., 5., 2., 2., 1., 1., 4.,\n",
       "       1., 5., 3., 5., 2., 1., 4., 1., 1., 2.])"
      ]
     },
     "execution_count": 832,
     "metadata": {},
     "output_type": "execute_result"
    }
   ],
   "source": [
    "y_pred"
   ]
  },
  {
   "cell_type": "code",
   "execution_count": 833,
   "metadata": {},
   "outputs": [
    {
     "data": {
      "text/plain": [
       "0.6666666666666666"
      ]
     },
     "execution_count": 833,
     "metadata": {},
     "output_type": "execute_result"
    }
   ],
   "source": [
    "accuracy_score(y_pred, Y_test)"
   ]
  },
  {
   "cell_type": "markdown",
   "metadata": {},
   "source": [
    "So neither one of these methods really worked too well. Perhaps it was too ambitious to assume that we could predict positions based off just a few simple stats, especially in a game where positions are not very meaningful anymore."
   ]
  }
 ],
 "metadata": {
  "kernelspec": {
   "display_name": "Python 3",
   "language": "python",
   "name": "python3"
  },
  "language_info": {
   "codemirror_mode": {
    "name": "ipython",
    "version": 3
   },
   "file_extension": ".py",
   "mimetype": "text/x-python",
   "name": "python",
   "nbconvert_exporter": "python",
   "pygments_lexer": "ipython3",
   "version": "3.7.4"
  }
 },
 "nbformat": 4,
 "nbformat_minor": 4
}
